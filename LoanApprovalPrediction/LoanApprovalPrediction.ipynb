{
 "cells": [
  {
   "cell_type": "markdown",
   "id": "91982368",
   "metadata": {},
   "source": [
    "# LOAN APPROVAL STATUS PREDICTION"
   ]
  },
  {
   "cell_type": "markdown",
   "id": "15d61176",
   "metadata": {},
   "source": [
    "Imagine you are work in bank sector and bank provides loan to the customer who requires so when provides loans the is a risk whether the loan\n",
    "take will repay the loan or not . so the bank have look after many aspects. so this project to predict whether loan is approved or not as per\n",
    "customer profile"
   ]
  },
  {
   "cell_type": "markdown",
   "id": "469b97e9",
   "metadata": {},
   "source": [
    "### Importing Required Libraries  For Execution"
   ]
  },
  {
   "cell_type": "code",
   "execution_count": 5,
   "id": "002a34b0",
   "metadata": {},
   "outputs": [
    {
     "name": "stdout",
     "output_type": "stream",
     "text": [
      "Collecting xgboost\n",
      "  Downloading xgboost-2.0.0-py3-none-win_amd64.whl (99.7 MB)\n",
      "     ---------------------------------------- 99.7/99.7 MB 4.7 MB/s eta 0:00:00\n",
      "Requirement already satisfied: scipy in c:\\users\\ismail\\anaconda3\\lib\\site-packages (from xgboost) (1.10.0)\n",
      "Requirement already satisfied: numpy in c:\\users\\ismail\\anaconda3\\lib\\site-packages (from xgboost) (1.23.5)\n",
      "Installing collected packages: xgboost\n",
      "Successfully installed xgboost-2.0.0\n"
     ]
    }
   ],
   "source": [
    "!pip install xgboost"
   ]
  },
  {
   "cell_type": "code",
   "execution_count": 6,
   "id": "a8a427e3",
   "metadata": {},
   "outputs": [],
   "source": [
    "import pandas as pd\n",
    "import numpy as np\n",
    "import matplotlib.pyplot as plt\n",
    "import seaborn as sns\n",
    "from sklearn.neighbors import KNeighborsClassifier\n",
    "from sklearn.naive_bayes import GaussianNB\n",
    "from sklearn.svm import SVC\n",
    "from sklearn.tree import DecisionTreeClassifier\n",
    "from sklearn.ensemble import AdaBoostClassifier\n",
    "from sklearn.ensemble import GradientBoostingClassifier\n",
    "from xgboost import XGBClassifier\n",
    "from sklearn.preprocessing import LabelEncoder\n",
    "from sklearn.preprocessing import MinMaxScaler\n",
    "from sklearn.decomposition import PCA\n",
    "from sklearn.model_selection import train_test_split\n",
    "from sklearn.metrics import ConfusionMatrixDisplay,classification_report,accuracy_score\n",
    "from imblearn.combine import SMOTEENN\n",
    "from imblearn.under_sampling import RandomUnderSampler"
   ]
  },
  {
   "cell_type": "markdown",
   "id": "2f8a30a1",
   "metadata": {},
   "source": [
    "### Loading The Data Set"
   ]
  },
  {
   "cell_type": "code",
   "execution_count": null,
   "id": "92870da0",
   "metadata": {},
   "outputs": [],
   "source": []
  }
 ],
 "metadata": {
  "kernelspec": {
   "display_name": "Python 3 (ipykernel)",
   "language": "python",
   "name": "python3"
  },
  "language_info": {
   "codemirror_mode": {
    "name": "ipython",
    "version": 3
   },
   "file_extension": ".py",
   "mimetype": "text/x-python",
   "name": "python",
   "nbconvert_exporter": "python",
   "pygments_lexer": "ipython3",
   "version": "3.10.9"
  }
 },
 "nbformat": 4,
 "nbformat_minor": 5
}

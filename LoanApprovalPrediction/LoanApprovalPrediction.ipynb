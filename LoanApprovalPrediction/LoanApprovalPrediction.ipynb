{
 "cells": [
  {
   "cell_type": "markdown",
   "id": "91982368",
   "metadata": {},
   "source": [
    "# LOAN APPROVAL STATUS PREDICTION"
   ]
  },
  {
   "cell_type": "markdown",
   "id": "15d61176",
   "metadata": {},
   "source": [
    "Imagine you are work in bank sector and bank provides loan to the customer who requires so when provides loans the is a risk whether the loan\n",
    "take will repay the loan or not . so the bank have look after many aspects. so this project to predict whether loan is approved or not as per\n",
    "customer profile"
   ]
  },
  {
   "cell_type": "markdown",
   "id": "469b97e9",
   "metadata": {},
   "source": [
    "### Importing Required Libraries  For Execution"
   ]
  },
  {
   "cell_type": "code",
   "execution_count": 31,
   "id": "002a34b0",
   "metadata": {},
   "outputs": [
    {
     "name": "stdout",
     "output_type": "stream",
     "text": [
      "Requirement already satisfied: xgboost in c:\\users\\ismail\\anaconda3\\lib\\site-packages (2.0.0)\n",
      "Requirement already satisfied: scipy in c:\\users\\ismail\\anaconda3\\lib\\site-packages (from xgboost) (1.10.0)\n",
      "Requirement already satisfied: numpy in c:\\users\\ismail\\anaconda3\\lib\\site-packages (from xgboost) (1.23.5)\n"
     ]
    }
   ],
   "source": [
    "!pip install xgboost"
   ]
  },
  {
   "cell_type": "code",
   "execution_count": 32,
   "id": "a8a427e3",
   "metadata": {},
   "outputs": [],
   "source": [
    "import pandas as pd\n",
    "import numpy as np\n",
    "import matplotlib.pyplot as plt\n",
    "import seaborn as sns\n",
    "from sklearn.neighbors import KNeighborsClassifier\n",
    "from sklearn.naive_bayes import GaussianNB\n",
    "from sklearn.svm import SVC\n",
    "from sklearn.tree import DecisionTreeClassifier\n",
    "from sklearn.ensemble import AdaBoostClassifier\n",
    "from sklearn.ensemble import GradientBoostingClassifier\n",
    "from xgboost import XGBClassifier\n",
    "from sklearn.preprocessing import LabelEncoder\n",
    "from sklearn.preprocessing import MinMaxScaler\n",
    "from sklearn.decomposition import PCA\n",
    "from sklearn.model_selection import train_test_split\n",
    "from sklearn.metrics import ConfusionMatrixDisplay,classification_report,accuracy_score\n",
    "from imblearn.combine import SMOTEENN\n",
    "from imblearn.under_sampling import RandomUnderSampler"
   ]
  },
  {
   "cell_type": "markdown",
   "id": "2f8a30a1",
   "metadata": {},
   "source": [
    "### Loading The Data Set"
   ]
  },
  {
   "cell_type": "code",
   "execution_count": 33,
   "id": "92870da0",
   "metadata": {},
   "outputs": [],
   "source": [
    "df = pd.read_csv(\"LoanApprovalPrediction.csv\")"
   ]
  },
  {
   "cell_type": "code",
   "execution_count": 34,
   "id": "354d471f",
   "metadata": {},
   "outputs": [
    {
     "data": {
      "text/html": [
       "<div>\n",
       "<style scoped>\n",
       "    .dataframe tbody tr th:only-of-type {\n",
       "        vertical-align: middle;\n",
       "    }\n",
       "\n",
       "    .dataframe tbody tr th {\n",
       "        vertical-align: top;\n",
       "    }\n",
       "\n",
       "    .dataframe thead th {\n",
       "        text-align: right;\n",
       "    }\n",
       "</style>\n",
       "<table border=\"1\" class=\"dataframe\">\n",
       "  <thead>\n",
       "    <tr style=\"text-align: right;\">\n",
       "      <th></th>\n",
       "      <th>Loan_ID</th>\n",
       "      <th>Gender</th>\n",
       "      <th>Married</th>\n",
       "      <th>Dependents</th>\n",
       "      <th>Education</th>\n",
       "      <th>Self_Employed</th>\n",
       "      <th>ApplicantIncome</th>\n",
       "      <th>CoapplicantIncome</th>\n",
       "      <th>LoanAmount</th>\n",
       "      <th>Loan_Amount_Term</th>\n",
       "      <th>Credit_History</th>\n",
       "      <th>Property_Area</th>\n",
       "      <th>Loan_Status</th>\n",
       "    </tr>\n",
       "  </thead>\n",
       "  <tbody>\n",
       "    <tr>\n",
       "      <th>0</th>\n",
       "      <td>LP001002</td>\n",
       "      <td>Male</td>\n",
       "      <td>No</td>\n",
       "      <td>0.0</td>\n",
       "      <td>Graduate</td>\n",
       "      <td>No</td>\n",
       "      <td>5849</td>\n",
       "      <td>0.0</td>\n",
       "      <td>NaN</td>\n",
       "      <td>360.0</td>\n",
       "      <td>1.0</td>\n",
       "      <td>Urban</td>\n",
       "      <td>Y</td>\n",
       "    </tr>\n",
       "    <tr>\n",
       "      <th>1</th>\n",
       "      <td>LP001003</td>\n",
       "      <td>Male</td>\n",
       "      <td>Yes</td>\n",
       "      <td>1.0</td>\n",
       "      <td>Graduate</td>\n",
       "      <td>No</td>\n",
       "      <td>4583</td>\n",
       "      <td>1508.0</td>\n",
       "      <td>128.0</td>\n",
       "      <td>360.0</td>\n",
       "      <td>1.0</td>\n",
       "      <td>Rural</td>\n",
       "      <td>N</td>\n",
       "    </tr>\n",
       "    <tr>\n",
       "      <th>2</th>\n",
       "      <td>LP001005</td>\n",
       "      <td>Male</td>\n",
       "      <td>Yes</td>\n",
       "      <td>0.0</td>\n",
       "      <td>Graduate</td>\n",
       "      <td>Yes</td>\n",
       "      <td>3000</td>\n",
       "      <td>0.0</td>\n",
       "      <td>66.0</td>\n",
       "      <td>360.0</td>\n",
       "      <td>1.0</td>\n",
       "      <td>Urban</td>\n",
       "      <td>Y</td>\n",
       "    </tr>\n",
       "    <tr>\n",
       "      <th>3</th>\n",
       "      <td>LP001006</td>\n",
       "      <td>Male</td>\n",
       "      <td>Yes</td>\n",
       "      <td>0.0</td>\n",
       "      <td>Not Graduate</td>\n",
       "      <td>No</td>\n",
       "      <td>2583</td>\n",
       "      <td>2358.0</td>\n",
       "      <td>120.0</td>\n",
       "      <td>360.0</td>\n",
       "      <td>1.0</td>\n",
       "      <td>Urban</td>\n",
       "      <td>Y</td>\n",
       "    </tr>\n",
       "    <tr>\n",
       "      <th>4</th>\n",
       "      <td>LP001008</td>\n",
       "      <td>Male</td>\n",
       "      <td>No</td>\n",
       "      <td>0.0</td>\n",
       "      <td>Graduate</td>\n",
       "      <td>No</td>\n",
       "      <td>6000</td>\n",
       "      <td>0.0</td>\n",
       "      <td>141.0</td>\n",
       "      <td>360.0</td>\n",
       "      <td>1.0</td>\n",
       "      <td>Urban</td>\n",
       "      <td>Y</td>\n",
       "    </tr>\n",
       "  </tbody>\n",
       "</table>\n",
       "</div>"
      ],
      "text/plain": [
       "    Loan_ID Gender Married  Dependents     Education Self_Employed  \\\n",
       "0  LP001002   Male      No         0.0      Graduate            No   \n",
       "1  LP001003   Male     Yes         1.0      Graduate            No   \n",
       "2  LP001005   Male     Yes         0.0      Graduate           Yes   \n",
       "3  LP001006   Male     Yes         0.0  Not Graduate            No   \n",
       "4  LP001008   Male      No         0.0      Graduate            No   \n",
       "\n",
       "   ApplicantIncome  CoapplicantIncome  LoanAmount  Loan_Amount_Term  \\\n",
       "0             5849                0.0         NaN             360.0   \n",
       "1             4583             1508.0       128.0             360.0   \n",
       "2             3000                0.0        66.0             360.0   \n",
       "3             2583             2358.0       120.0             360.0   \n",
       "4             6000                0.0       141.0             360.0   \n",
       "\n",
       "   Credit_History Property_Area Loan_Status  \n",
       "0             1.0         Urban           Y  \n",
       "1             1.0         Rural           N  \n",
       "2             1.0         Urban           Y  \n",
       "3             1.0         Urban           Y  \n",
       "4             1.0         Urban           Y  "
      ]
     },
     "execution_count": 34,
     "metadata": {},
     "output_type": "execute_result"
    }
   ],
   "source": [
    "df.head()"
   ]
  },
  {
   "cell_type": "markdown",
   "id": "becd7b15",
   "metadata": {},
   "source": [
    "### Analysis Of Data"
   ]
  },
  {
   "cell_type": "code",
   "execution_count": 35,
   "id": "3c1963bf",
   "metadata": {},
   "outputs": [
    {
     "name": "stdout",
     "output_type": "stream",
     "text": [
      "<class 'pandas.core.frame.DataFrame'>\n",
      "RangeIndex: 598 entries, 0 to 597\n",
      "Data columns (total 13 columns):\n",
      " #   Column             Non-Null Count  Dtype  \n",
      "---  ------             --------------  -----  \n",
      " 0   Loan_ID            598 non-null    object \n",
      " 1   Gender             598 non-null    object \n",
      " 2   Married            598 non-null    object \n",
      " 3   Dependents         586 non-null    float64\n",
      " 4   Education          598 non-null    object \n",
      " 5   Self_Employed      598 non-null    object \n",
      " 6   ApplicantIncome    598 non-null    int64  \n",
      " 7   CoapplicantIncome  598 non-null    float64\n",
      " 8   LoanAmount         577 non-null    float64\n",
      " 9   Loan_Amount_Term   584 non-null    float64\n",
      " 10  Credit_History     549 non-null    float64\n",
      " 11  Property_Area      598 non-null    object \n",
      " 12  Loan_Status        598 non-null    object \n",
      "dtypes: float64(5), int64(1), object(7)\n",
      "memory usage: 60.9+ KB\n"
     ]
    }
   ],
   "source": [
    "df.info()"
   ]
  },
  {
   "cell_type": "code",
   "execution_count": 36,
   "id": "9de1d17b",
   "metadata": {
    "scrolled": true
   },
   "outputs": [
    {
     "name": "stdout",
     "output_type": "stream",
     "text": [
      "Categorical variables: 7\n"
     ]
    }
   ],
   "source": [
    "obj = (df.dtypes == 'object')\n",
    "print(\"Categorical variables:\",len(list(obj[obj].index)))"
   ]
  },
  {
   "cell_type": "code",
   "execution_count": 37,
   "id": "33fe2f2b",
   "metadata": {},
   "outputs": [
    {
     "data": {
      "text/plain": [
       "Loan_ID              False\n",
       "Gender               False\n",
       "Married              False\n",
       "Dependents            True\n",
       "Education            False\n",
       "Self_Employed        False\n",
       "ApplicantIncome      False\n",
       "CoapplicantIncome    False\n",
       "LoanAmount            True\n",
       "Loan_Amount_Term      True\n",
       "Credit_History        True\n",
       "Property_Area        False\n",
       "Loan_Status          False\n",
       "dtype: bool"
      ]
     },
     "execution_count": 37,
     "metadata": {},
     "output_type": "execute_result"
    }
   ],
   "source": [
    "df.isnull().any()"
   ]
  },
  {
   "cell_type": "code",
   "execution_count": 38,
   "id": "c3cad119",
   "metadata": {},
   "outputs": [
    {
     "data": {
      "text/plain": [
       "Loan_ID               0\n",
       "Gender                0\n",
       "Married               0\n",
       "Dependents           12\n",
       "Education             0\n",
       "Self_Employed         0\n",
       "ApplicantIncome       0\n",
       "CoapplicantIncome     0\n",
       "LoanAmount           21\n",
       "Loan_Amount_Term     14\n",
       "Credit_History       49\n",
       "Property_Area         0\n",
       "Loan_Status           0\n",
       "dtype: int64"
      ]
     },
     "execution_count": 38,
     "metadata": {},
     "output_type": "execute_result"
    }
   ],
   "source": [
    "df.isnull().sum()"
   ]
  },
  {
   "cell_type": "code",
   "execution_count": 39,
   "id": "acdebf0c",
   "metadata": {},
   "outputs": [
    {
     "data": {
      "text/plain": [
       "Male      487\n",
       "Female    111\n",
       "Name: Gender, dtype: int64"
      ]
     },
     "execution_count": 39,
     "metadata": {},
     "output_type": "execute_result"
    }
   ],
   "source": [
    "df['Gender'].value_counts()"
   ]
  },
  {
   "cell_type": "code",
   "execution_count": 40,
   "id": "ca6eeea5",
   "metadata": {},
   "outputs": [
    {
     "data": {
      "text/plain": [
       "Yes    388\n",
       "No     210\n",
       "Name: Married, dtype: int64"
      ]
     },
     "execution_count": 40,
     "metadata": {},
     "output_type": "execute_result"
    }
   ],
   "source": [
    "df['Married'].value_counts()"
   ]
  },
  {
   "cell_type": "code",
   "execution_count": 41,
   "id": "bcce836e",
   "metadata": {},
   "outputs": [
    {
     "data": {
      "text/plain": [
       "0.0    338\n",
       "1.0    101\n",
       "2.0     99\n",
       "3.0     48\n",
       "Name: Dependents, dtype: int64"
      ]
     },
     "execution_count": 41,
     "metadata": {},
     "output_type": "execute_result"
    }
   ],
   "source": [
    "df['Dependents'].value_counts()"
   ]
  },
  {
   "cell_type": "code",
   "execution_count": 42,
   "id": "6805089e",
   "metadata": {},
   "outputs": [
    {
     "data": {
      "text/plain": [
       "Graduate        465\n",
       "Not Graduate    133\n",
       "Name: Education, dtype: int64"
      ]
     },
     "execution_count": 42,
     "metadata": {},
     "output_type": "execute_result"
    }
   ],
   "source": [
    "df['Education'].value_counts()"
   ]
  },
  {
   "cell_type": "code",
   "execution_count": 43,
   "id": "edf96443",
   "metadata": {},
   "outputs": [
    {
     "data": {
      "text/plain": [
       "No     488\n",
       "Yes    110\n",
       "Name: Self_Employed, dtype: int64"
      ]
     },
     "execution_count": 43,
     "metadata": {},
     "output_type": "execute_result"
    }
   ],
   "source": [
    "df['Self_Employed'].value_counts()"
   ]
  },
  {
   "cell_type": "code",
   "execution_count": 44,
   "id": "8b1a5eaa",
   "metadata": {},
   "outputs": [
    {
     "data": {
      "text/plain": [
       "2500    9\n",
       "2600    6\n",
       "6000    6\n",
       "4583    6\n",
       "3333    5\n",
       "       ..\n",
       "3975    1\n",
       "3244    1\n",
       "4408    1\n",
       "3917    1\n",
       "7583    1\n",
       "Name: ApplicantIncome, Length: 491, dtype: int64"
      ]
     },
     "execution_count": 44,
     "metadata": {},
     "output_type": "execute_result"
    }
   ],
   "source": [
    "df['ApplicantIncome'].value_counts()"
   ]
  },
  {
   "cell_type": "code",
   "execution_count": 45,
   "id": "c865ee00",
   "metadata": {},
   "outputs": [
    {
     "data": {
      "text/plain": [
       "0.0       265\n",
       "1666.0      5\n",
       "2083.0      5\n",
       "2500.0      5\n",
       "2250.0      3\n",
       "         ... \n",
       "2791.0      1\n",
       "1010.0      1\n",
       "1695.0      1\n",
       "2598.0      1\n",
       "240.0       1\n",
       "Name: CoapplicantIncome, Length: 283, dtype: int64"
      ]
     },
     "execution_count": 45,
     "metadata": {},
     "output_type": "execute_result"
    }
   ],
   "source": [
    "df['CoapplicantIncome'].value_counts()"
   ]
  },
  {
   "cell_type": "code",
   "execution_count": 46,
   "id": "102b5950",
   "metadata": {},
   "outputs": [
    {
     "data": {
      "text/plain": [
       "120.0    20\n",
       "110.0    16\n",
       "100.0    15\n",
       "187.0    12\n",
       "128.0    11\n",
       "         ..\n",
       "72.0      1\n",
       "240.0     1\n",
       "214.0     1\n",
       "59.0      1\n",
       "253.0     1\n",
       "Name: LoanAmount, Length: 199, dtype: int64"
      ]
     },
     "execution_count": 46,
     "metadata": {},
     "output_type": "execute_result"
    }
   ],
   "source": [
    "df['LoanAmount'].value_counts()"
   ]
  },
  {
   "cell_type": "code",
   "execution_count": 47,
   "id": "dbdfc2d3",
   "metadata": {},
   "outputs": [
    {
     "data": {
      "text/plain": [
       "360.0    500\n",
       "180.0     43\n",
       "480.0     14\n",
       "300.0     12\n",
       "84.0       4\n",
       "120.0      3\n",
       "240.0      3\n",
       "60.0       2\n",
       "36.0       2\n",
       "12.0       1\n",
       "Name: Loan_Amount_Term, dtype: int64"
      ]
     },
     "execution_count": 47,
     "metadata": {},
     "output_type": "execute_result"
    }
   ],
   "source": [
    "df['Loan_Amount_Term'].value_counts()"
   ]
  },
  {
   "cell_type": "code",
   "execution_count": 48,
   "id": "c3089995",
   "metadata": {},
   "outputs": [
    {
     "data": {
      "text/plain": [
       "1.0    463\n",
       "0.0     86\n",
       "Name: Credit_History, dtype: int64"
      ]
     },
     "execution_count": 48,
     "metadata": {},
     "output_type": "execute_result"
    }
   ],
   "source": [
    "df['Credit_History'].value_counts()"
   ]
  },
  {
   "cell_type": "code",
   "execution_count": 49,
   "id": "1d90b9be",
   "metadata": {},
   "outputs": [
    {
     "data": {
      "text/plain": [
       "Semiurban    225\n",
       "Urban        198\n",
       "Rural        175\n",
       "Name: Property_Area, dtype: int64"
      ]
     },
     "execution_count": 49,
     "metadata": {},
     "output_type": "execute_result"
    }
   ],
   "source": [
    "df['Property_Area'].value_counts()"
   ]
  },
  {
   "cell_type": "markdown",
   "id": "5dddffbc",
   "metadata": {},
   "source": [
    "### Data Visualization"
   ]
  },
  {
   "cell_type": "code",
   "execution_count": 50,
   "id": "894257ca",
   "metadata": {},
   "outputs": [
    {
     "name": "stderr",
     "output_type": "stream",
     "text": [
      "C:\\Users\\ismail\\AppData\\Local\\Temp\\ipykernel_7224\\58359773.py:1: FutureWarning: The default value of numeric_only in DataFrame.corr is deprecated. In a future version, it will default to False. Select only valid columns or specify the value of numeric_only to silence this warning.\n",
      "  sns.heatmap(df.corr())\n"
     ]
    },
    {
     "data": {
      "text/plain": [
       "<Axes: >"
      ]
     },
     "execution_count": 50,
     "metadata": {},
     "output_type": "execute_result"
    },
    {
     "data": {
      "image/png": "[encoded data removed]",
      "text/plain": [
       "<Figure size 640x480 with 2 Axes>"
      ]
     },
     "metadata": {},
     "output_type": "display_data"
    }
   ],
   "source": [
    "sns.heatmap(df.corr())"
   ]
  },
  {
   "cell_type": "code",
   "execution_count": 51,
   "id": "0b588f61",
   "metadata": {},
   "outputs": [
    {
     "data": {
      "text/plain": [
       "<seaborn.axisgrid.FacetGrid at 0x21ef5c5f580>"
      ]
     },
     "execution_count": 51,
     "metadata": {},
     "output_type": "execute_result"
    },
    {
     "data": {
      "image/png": "[encoded data removed]",
      "text/plain": [
       "<Figure size 595.736x500 with 1 Axes>"
      ]
     },
     "metadata": {},
     "output_type": "display_data"
    }
   ],
   "source": [
    "sns.displot(df,x='ApplicantIncome',hue='Loan_Status',kind='kde')"
   ]
  },
  {
   "cell_type": "markdown",
   "id": "94fc5dfc",
   "metadata": {},
   "source": [
    "Visualize all the unique values in columns "
   ]
  },
  {
   "cell_type": "code",
   "execution_count": 52,
   "id": "dbb17a57",
   "metadata": {},
   "outputs": [
    {
     "data": {
      "text/plain": [
       "<Axes: xlabel='Married', ylabel='count'>"
      ]
     },
     "execution_count": 52,
     "metadata": {},
     "output_type": "execute_result"
    },
    {
     "data": {
      "image/png": "[encoded data removed]",
      "text/plain": [
       "<Figure size 1200x1200 with 4 Axes>"
      ]
     },
     "metadata": {},
     "output_type": "display_data"
    }
   ],
   "source": [
    "fig,axis=plt.subplots(2,2,figsize=(12,12))\n",
    "sns.barplot(x='Self_Employed',y='LoanAmount',data=df,hue='Loan_Status',ax=axis[0,0])\n",
    "sns.countplot(x='Property_Area',data=df,hue='Loan_Status',ax=axis[0,1])\n",
    "sns.countplot(x='Gender',data=df,hue='Loan_Status',ax=axis[1,0])\n",
    "sns.countplot(x='Married',data=df,hue='Loan_Status',ax=axis[1,1])"
   ]
  },
  {
   "cell_type": "markdown",
   "id": "2be140de",
   "metadata": {},
   "source": [
    "# Data Cleaning And Preprocessing"
   ]
  },
  {
   "cell_type": "code",
   "execution_count": 53,
   "id": "25ae059b",
   "metadata": {},
   "outputs": [
    {
     "data": {
      "text/plain": [
       "Loan_ID               object\n",
       "Gender                object\n",
       "Married               object\n",
       "Dependents           float64\n",
       "Education             object\n",
       "Self_Employed         object\n",
       "ApplicantIncome        int64\n",
       "CoapplicantIncome    float64\n",
       "LoanAmount           float64\n",
       "Loan_Amount_Term     float64\n",
       "Credit_History       float64\n",
       "Property_Area         object\n",
       "Loan_Status           object\n",
       "dtype: object"
      ]
     },
     "execution_count": 53,
     "metadata": {},
     "output_type": "execute_result"
    }
   ],
   "source": [
    "df.dtypes"
   ]
  },
  {
   "cell_type": "markdown",
   "id": "95f096a1",
   "metadata": {},
   "source": [
    "Drop the \"Loan_ID\" column as it is unique and unrelated to the other columns in the dataset"
   ]
  },
  {
   "cell_type": "code",
   "execution_count": 54,
   "id": "635089bc",
   "metadata": {},
   "outputs": [],
   "source": [
    "# Dropping Loan_ID column\n",
    "df.drop(['Loan_ID'],axis=1,inplace=True)"
   ]
  },
  {
   "cell_type": "markdown",
   "id": "9b5b159b",
   "metadata": {},
   "source": [
    "As all the categorical values are binary so we can use Label Encoder for all such columns."
   ]
  },
  {
   "cell_type": "code",
   "execution_count": 57,
   "id": "67018d94",
   "metadata": {},
   "outputs": [],
   "source": [
    "label_encoder = LabelEncoder()\n",
    "lst=['Gender','Married','Dependents','Education','Self_Employed','Property_Area','Loan_Status']\n",
    "for i in lst:\n",
    "    df[i]=label_encoder.fit_transform(df[i])"
   ]
  },
  {
   "cell_type": "code",
   "execution_count": 58,
   "id": "c893bd1c",
   "metadata": {},
   "outputs": [
    {
     "data": {
      "text/html": [
       "<div>\n",
       "<style scoped>\n",
       "    .dataframe tbody tr th:only-of-type {\n",
       "        vertical-align: middle;\n",
       "    }\n",
       "\n",
       "    .dataframe tbody tr th {\n",
       "        vertical-align: top;\n",
       "    }\n",
       "\n",
       "    .dataframe thead th {\n",
       "        text-align: right;\n",
       "    }\n",
       "</style>\n",
       "<table border=\"1\" class=\"dataframe\">\n",
       "  <thead>\n",
       "    <tr style=\"text-align: right;\">\n",
       "      <th></th>\n",
       "      <th>Gender</th>\n",
       "      <th>Married</th>\n",
       "      <th>Dependents</th>\n",
       "      <th>Education</th>\n",
       "      <th>Self_Employed</th>\n",
       "      <th>ApplicantIncome</th>\n",
       "      <th>CoapplicantIncome</th>\n",
       "      <th>LoanAmount</th>\n",
       "      <th>Loan_Amount_Term</th>\n",
       "      <th>Credit_History</th>\n",
       "      <th>Property_Area</th>\n",
       "      <th>Loan_Status</th>\n",
       "    </tr>\n",
       "  </thead>\n",
       "  <tbody>\n",
       "    <tr>\n",
       "      <th>0</th>\n",
       "      <td>1</td>\n",
       "      <td>0</td>\n",
       "      <td>0</td>\n",
       "      <td>0</td>\n",
       "      <td>0</td>\n",
       "      <td>5849</td>\n",
       "      <td>0.0</td>\n",
       "      <td>NaN</td>\n",
       "      <td>360.0</td>\n",
       "      <td>1.0</td>\n",
       "      <td>2</td>\n",
       "      <td>1</td>\n",
       "    </tr>\n",
       "    <tr>\n",
       "      <th>1</th>\n",
       "      <td>1</td>\n",
       "      <td>1</td>\n",
       "      <td>1</td>\n",
       "      <td>0</td>\n",
       "      <td>0</td>\n",
       "      <td>4583</td>\n",
       "      <td>1508.0</td>\n",
       "      <td>128.0</td>\n",
       "      <td>360.0</td>\n",
       "      <td>1.0</td>\n",
       "      <td>0</td>\n",
       "      <td>0</td>\n",
       "    </tr>\n",
       "    <tr>\n",
       "      <th>2</th>\n",
       "      <td>1</td>\n",
       "      <td>1</td>\n",
       "      <td>0</td>\n",
       "      <td>0</td>\n",
       "      <td>1</td>\n",
       "      <td>3000</td>\n",
       "      <td>0.0</td>\n",
       "      <td>66.0</td>\n",
       "      <td>360.0</td>\n",
       "      <td>1.0</td>\n",
       "      <td>2</td>\n",
       "      <td>1</td>\n",
       "    </tr>\n",
       "    <tr>\n",
       "      <th>3</th>\n",
       "      <td>1</td>\n",
       "      <td>1</td>\n",
       "      <td>0</td>\n",
       "      <td>1</td>\n",
       "      <td>0</td>\n",
       "      <td>2583</td>\n",
       "      <td>2358.0</td>\n",
       "      <td>120.0</td>\n",
       "      <td>360.0</td>\n",
       "      <td>1.0</td>\n",
       "      <td>2</td>\n",
       "      <td>1</td>\n",
       "    </tr>\n",
       "    <tr>\n",
       "      <th>4</th>\n",
       "      <td>1</td>\n",
       "      <td>0</td>\n",
       "      <td>0</td>\n",
       "      <td>0</td>\n",
       "      <td>0</td>\n",
       "      <td>6000</td>\n",
       "      <td>0.0</td>\n",
       "      <td>141.0</td>\n",
       "      <td>360.0</td>\n",
       "      <td>1.0</td>\n",
       "      <td>2</td>\n",
       "      <td>1</td>\n",
       "    </tr>\n",
       "  </tbody>\n",
       "</table>\n",
       "</div>"
      ],
      "text/plain": [
       "   Gender  Married  Dependents  Education  Self_Employed  ApplicantIncome  \\\n",
       "0       1        0           0          0              0             5849   \n",
       "1       1        1           1          0              0             4583   \n",
       "2       1        1           0          0              1             3000   \n",
       "3       1        1           0          1              0             2583   \n",
       "4       1        0           0          0              0             6000   \n",
       "\n",
       "   CoapplicantIncome  LoanAmount  Loan_Amount_Term  Credit_History  \\\n",
       "0                0.0         NaN             360.0             1.0   \n",
       "1             1508.0       128.0             360.0             1.0   \n",
       "2                0.0        66.0             360.0             1.0   \n",
       "3             2358.0       120.0             360.0             1.0   \n",
       "4                0.0       141.0             360.0             1.0   \n",
       "\n",
       "   Property_Area  Loan_Status  \n",
       "0              2            1  \n",
       "1              0            0  \n",
       "2              2            1  \n",
       "3              2            1  \n",
       "4              2            1  "
      ]
     },
     "execution_count": 58,
     "metadata": {},
     "output_type": "execute_result"
    }
   ],
   "source": [
    "df.head()"
   ]
  },
  {
   "cell_type": "code",
   "execution_count": 62,
   "id": "62948475",
   "metadata": {},
   "outputs": [
    {
     "data": {
      "text/plain": [
       "Gender                0\n",
       "Married               0\n",
       "Dependents            0\n",
       "Education             0\n",
       "Self_Employed         0\n",
       "ApplicantIncome       0\n",
       "CoapplicantIncome     0\n",
       "LoanAmount           21\n",
       "Loan_Amount_Term     14\n",
       "Credit_History       49\n",
       "Property_Area         0\n",
       "Loan_Status           0\n",
       "dtype: int64"
      ]
     },
     "execution_count": 62,
     "metadata": {},
     "output_type": "execute_result"
    }
   ],
   "source": [
    "df.isnull().sum()"
   ]
  },
  {
   "cell_type": "code",
   "execution_count": 63,
   "id": "b5a7afc4",
   "metadata": {},
   "outputs": [],
   "source": [
    "df['LoanAmount']=df['LoanAmount'].fillna(df['LoanAmount'].mode()[0])\n",
    "df['Loan_Amount_Term']=df['Loan_Amount_Term'].fillna(df['Loan_Amount_Term'].mode()[0])\n",
    "df['Credit_History']=df['Credit_History'].fillna(df['Credit_History'].mode()[0])"
   ]
  },
  {
   "cell_type": "code",
   "execution_count": 64,
   "id": "ba8bd168",
   "metadata": {},
   "outputs": [
    {
     "data": {
      "text/plain": [
       "Gender               0\n",
       "Married              0\n",
       "Dependents           0\n",
       "Education            0\n",
       "Self_Employed        0\n",
       "ApplicantIncome      0\n",
       "CoapplicantIncome    0\n",
       "LoanAmount           0\n",
       "Loan_Amount_Term     0\n",
       "Credit_History       0\n",
       "Property_Area        0\n",
       "Loan_Status          0\n",
       "dtype: int64"
      ]
     },
     "execution_count": 64,
     "metadata": {},
     "output_type": "execute_result"
    }
   ],
   "source": [
    "df.isna().sum()"
   ]
  },
  {
   "cell_type": "code",
   "execution_count": 65,
   "id": "d60efc12",
   "metadata": {},
   "outputs": [
    {
     "data": {
      "text/html": [
       "<div>\n",
       "<style scoped>\n",
       "    .dataframe tbody tr th:only-of-type {\n",
       "        vertical-align: middle;\n",
       "    }\n",
       "\n",
       "    .dataframe tbody tr th {\n",
       "        vertical-align: top;\n",
       "    }\n",
       "\n",
       "    .dataframe thead th {\n",
       "        text-align: right;\n",
       "    }\n",
       "</style>\n",
       "<table border=\"1\" class=\"dataframe\">\n",
       "  <thead>\n",
       "    <tr style=\"text-align: right;\">\n",
       "      <th></th>\n",
       "      <th>Gender</th>\n",
       "      <th>Married</th>\n",
       "      <th>Dependents</th>\n",
       "      <th>Education</th>\n",
       "      <th>Self_Employed</th>\n",
       "      <th>ApplicantIncome</th>\n",
       "      <th>CoapplicantIncome</th>\n",
       "      <th>LoanAmount</th>\n",
       "      <th>Loan_Amount_Term</th>\n",
       "      <th>Credit_History</th>\n",
       "      <th>Property_Area</th>\n",
       "      <th>Loan_Status</th>\n",
       "    </tr>\n",
       "  </thead>\n",
       "  <tbody>\n",
       "    <tr>\n",
       "      <th>0</th>\n",
       "      <td>1</td>\n",
       "      <td>0</td>\n",
       "      <td>0</td>\n",
       "      <td>0</td>\n",
       "      <td>0</td>\n",
       "      <td>5849</td>\n",
       "      <td>0.0</td>\n",
       "      <td>120.0</td>\n",
       "      <td>360.0</td>\n",
       "      <td>1.0</td>\n",
       "      <td>2</td>\n",
       "      <td>1</td>\n",
       "    </tr>\n",
       "    <tr>\n",
       "      <th>1</th>\n",
       "      <td>1</td>\n",
       "      <td>1</td>\n",
       "      <td>1</td>\n",
       "      <td>0</td>\n",
       "      <td>0</td>\n",
       "      <td>4583</td>\n",
       "      <td>1508.0</td>\n",
       "      <td>128.0</td>\n",
       "      <td>360.0</td>\n",
       "      <td>1.0</td>\n",
       "      <td>0</td>\n",
       "      <td>0</td>\n",
       "    </tr>\n",
       "    <tr>\n",
       "      <th>2</th>\n",
       "      <td>1</td>\n",
       "      <td>1</td>\n",
       "      <td>0</td>\n",
       "      <td>0</td>\n",
       "      <td>1</td>\n",
       "      <td>3000</td>\n",
       "      <td>0.0</td>\n",
       "      <td>66.0</td>\n",
       "      <td>360.0</td>\n",
       "      <td>1.0</td>\n",
       "      <td>2</td>\n",
       "      <td>1</td>\n",
       "    </tr>\n",
       "    <tr>\n",
       "      <th>3</th>\n",
       "      <td>1</td>\n",
       "      <td>1</td>\n",
       "      <td>0</td>\n",
       "      <td>1</td>\n",
       "      <td>0</td>\n",
       "      <td>2583</td>\n",
       "      <td>2358.0</td>\n",
       "      <td>120.0</td>\n",
       "      <td>360.0</td>\n",
       "      <td>1.0</td>\n",
       "      <td>2</td>\n",
       "      <td>1</td>\n",
       "    </tr>\n",
       "    <tr>\n",
       "      <th>4</th>\n",
       "      <td>1</td>\n",
       "      <td>0</td>\n",
       "      <td>0</td>\n",
       "      <td>0</td>\n",
       "      <td>0</td>\n",
       "      <td>6000</td>\n",
       "      <td>0.0</td>\n",
       "      <td>141.0</td>\n",
       "      <td>360.0</td>\n",
       "      <td>1.0</td>\n",
       "      <td>2</td>\n",
       "      <td>1</td>\n",
       "    </tr>\n",
       "  </tbody>\n",
       "</table>\n",
       "</div>"
      ],
      "text/plain": [
       "   Gender  Married  Dependents  Education  Self_Employed  ApplicantIncome  \\\n",
       "0       1        0           0          0              0             5849   \n",
       "1       1        1           1          0              0             4583   \n",
       "2       1        1           0          0              1             3000   \n",
       "3       1        1           0          1              0             2583   \n",
       "4       1        0           0          0              0             6000   \n",
       "\n",
       "   CoapplicantIncome  LoanAmount  Loan_Amount_Term  Credit_History  \\\n",
       "0                0.0       120.0             360.0             1.0   \n",
       "1             1508.0       128.0             360.0             1.0   \n",
       "2                0.0        66.0             360.0             1.0   \n",
       "3             2358.0       120.0             360.0             1.0   \n",
       "4                0.0       141.0             360.0             1.0   \n",
       "\n",
       "   Property_Area  Loan_Status  \n",
       "0              2            1  \n",
       "1              0            0  \n",
       "2              2            1  \n",
       "3              2            1  \n",
       "4              2            1  "
      ]
     },
     "execution_count": 65,
     "metadata": {},
     "output_type": "execute_result"
    }
   ],
   "source": [
    "df.head()"
   ]
  },
  {
   "cell_type": "markdown",
   "id": "9798303f",
   "metadata": {},
   "source": [
    "### Data Set Balancing"
   ]
  },
  {
   "cell_type": "code",
   "execution_count": 69,
   "id": "ad460e3b",
   "metadata": {},
   "outputs": [],
   "source": [
    "LoanStatus =df['Loan_Status'].value_counts()"
   ]
  },
  {
   "cell_type": "code",
   "execution_count": 70,
   "id": "d8958391",
   "metadata": {},
   "outputs": [
    {
     "data": {
      "text/plain": [
       "1    411\n",
       "0    187\n",
       "Name: Loan_Status, dtype: int64"
      ]
     },
     "execution_count": 70,
     "metadata": {},
     "output_type": "execute_result"
    }
   ],
   "source": [
    "Loan_Status"
   ]
  },
  {
   "cell_type": "code",
   "execution_count": 71,
   "id": "6c2862c8",
   "metadata": {},
   "outputs": [],
   "source": [
    "binary=['Yes','No']"
   ]
  },
  {
   "cell_type": "code",
   "execution_count": 72,
   "id": "2f798c78",
   "metadata": {},
   "outputs": [
    {
     "data": {
      "image/png": "[encoded data removed]",
      "text/plain": [
       "<Figure size 400x400 with 1 Axes>"
      ]
     },
     "metadata": {},
     "output_type": "display_data"
    }
   ],
   "source": [
    "plt.figure(figsize=(4,4))\n",
    "plt.pie(LoanStatus,explode=[0.1,0],labels=binary, autopct='%2.1f%%',wedgeprops={\"width\":0.5})\n",
    "plt.title('Loan_Status')\n",
    "plt.legend(title='output')\n",
    "plt.show()"
   ]
  },
  {
   "cell_type": "code",
   "execution_count": 76,
   "id": "c2d348ea",
   "metadata": {},
   "outputs": [],
   "source": [
    "data = df.copy()"
   ]
  },
  {
   "cell_type": "code",
   "execution_count": 77,
   "id": "2b39e23a",
   "metadata": {},
   "outputs": [],
   "source": [
    "#Target\n",
    "Y=data['Loan_Status']\n",
    "#Features\n",
    "X=data.drop(columns='Loan_Status',axis=1)"
   ]
  },
  {
   "cell_type": "code",
   "execution_count": 78,
   "id": "7894f5a2",
   "metadata": {},
   "outputs": [
    {
     "data": {
      "text/plain": [
       "0      1\n",
       "1      0\n",
       "2      1\n",
       "3      1\n",
       "4      1\n",
       "      ..\n",
       "593    1\n",
       "594    1\n",
       "595    1\n",
       "596    1\n",
       "597    0\n",
       "Name: Loan_Status, Length: 598, dtype: int32"
      ]
     },
     "execution_count": 78,
     "metadata": {},
     "output_type": "execute_result"
    }
   ],
   "source": [
    "Y"
   ]
  },
  {
   "cell_type": "code",
   "execution_count": 79,
   "id": "3e339bc0",
   "metadata": {},
   "outputs": [
    {
     "data": {
      "text/html": [
       "<div>\n",
       "<style scoped>\n",
       "    .dataframe tbody tr th:only-of-type {\n",
       "        vertical-align: middle;\n",
       "    }\n",
       "\n",
       "    .dataframe tbody tr th {\n",
       "        vertical-align: top;\n",
       "    }\n",
       "\n",
       "    .dataframe thead th {\n",
       "        text-align: right;\n",
       "    }\n",
       "</style>\n",
       "<table border=\"1\" class=\"dataframe\">\n",
       "  <thead>\n",
       "    <tr style=\"text-align: right;\">\n",
       "      <th></th>\n",
       "      <th>Gender</th>\n",
       "      <th>Married</th>\n",
       "      <th>Dependents</th>\n",
       "      <th>Education</th>\n",
       "      <th>Self_Employed</th>\n",
       "      <th>ApplicantIncome</th>\n",
       "      <th>CoapplicantIncome</th>\n",
       "      <th>LoanAmount</th>\n",
       "      <th>Loan_Amount_Term</th>\n",
       "      <th>Credit_History</th>\n",
       "      <th>Property_Area</th>\n",
       "    </tr>\n",
       "  </thead>\n",
       "  <tbody>\n",
       "    <tr>\n",
       "      <th>0</th>\n",
       "      <td>1</td>\n",
       "      <td>0</td>\n",
       "      <td>0</td>\n",
       "      <td>0</td>\n",
       "      <td>0</td>\n",
       "      <td>5849</td>\n",
       "      <td>0.0</td>\n",
       "      <td>120.0</td>\n",
       "      <td>360.0</td>\n",
       "      <td>1.0</td>\n",
       "      <td>2</td>\n",
       "    </tr>\n",
       "    <tr>\n",
       "      <th>1</th>\n",
       "      <td>1</td>\n",
       "      <td>1</td>\n",
       "      <td>1</td>\n",
       "      <td>0</td>\n",
       "      <td>0</td>\n",
       "      <td>4583</td>\n",
       "      <td>1508.0</td>\n",
       "      <td>128.0</td>\n",
       "      <td>360.0</td>\n",
       "      <td>1.0</td>\n",
       "      <td>0</td>\n",
       "    </tr>\n",
       "    <tr>\n",
       "      <th>2</th>\n",
       "      <td>1</td>\n",
       "      <td>1</td>\n",
       "      <td>0</td>\n",
       "      <td>0</td>\n",
       "      <td>1</td>\n",
       "      <td>3000</td>\n",
       "      <td>0.0</td>\n",
       "      <td>66.0</td>\n",
       "      <td>360.0</td>\n",
       "      <td>1.0</td>\n",
       "      <td>2</td>\n",
       "    </tr>\n",
       "    <tr>\n",
       "      <th>3</th>\n",
       "      <td>1</td>\n",
       "      <td>1</td>\n",
       "      <td>0</td>\n",
       "      <td>1</td>\n",
       "      <td>0</td>\n",
       "      <td>2583</td>\n",
       "      <td>2358.0</td>\n",
       "      <td>120.0</td>\n",
       "      <td>360.0</td>\n",
       "      <td>1.0</td>\n",
       "      <td>2</td>\n",
       "    </tr>\n",
       "    <tr>\n",
       "      <th>4</th>\n",
       "      <td>1</td>\n",
       "      <td>0</td>\n",
       "      <td>0</td>\n",
       "      <td>0</td>\n",
       "      <td>0</td>\n",
       "      <td>6000</td>\n",
       "      <td>0.0</td>\n",
       "      <td>141.0</td>\n",
       "      <td>360.0</td>\n",
       "      <td>1.0</td>\n",
       "      <td>2</td>\n",
       "    </tr>\n",
       "    <tr>\n",
       "      <th>...</th>\n",
       "      <td>...</td>\n",
       "      <td>...</td>\n",
       "      <td>...</td>\n",
       "      <td>...</td>\n",
       "      <td>...</td>\n",
       "      <td>...</td>\n",
       "      <td>...</td>\n",
       "      <td>...</td>\n",
       "      <td>...</td>\n",
       "      <td>...</td>\n",
       "      <td>...</td>\n",
       "    </tr>\n",
       "    <tr>\n",
       "      <th>593</th>\n",
       "      <td>0</td>\n",
       "      <td>0</td>\n",
       "      <td>0</td>\n",
       "      <td>0</td>\n",
       "      <td>0</td>\n",
       "      <td>2900</td>\n",
       "      <td>0.0</td>\n",
       "      <td>71.0</td>\n",
       "      <td>360.0</td>\n",
       "      <td>1.0</td>\n",
       "      <td>0</td>\n",
       "    </tr>\n",
       "    <tr>\n",
       "      <th>594</th>\n",
       "      <td>1</td>\n",
       "      <td>1</td>\n",
       "      <td>3</td>\n",
       "      <td>0</td>\n",
       "      <td>0</td>\n",
       "      <td>4106</td>\n",
       "      <td>0.0</td>\n",
       "      <td>40.0</td>\n",
       "      <td>180.0</td>\n",
       "      <td>1.0</td>\n",
       "      <td>0</td>\n",
       "    </tr>\n",
       "    <tr>\n",
       "      <th>595</th>\n",
       "      <td>1</td>\n",
       "      <td>1</td>\n",
       "      <td>1</td>\n",
       "      <td>0</td>\n",
       "      <td>0</td>\n",
       "      <td>8072</td>\n",
       "      <td>240.0</td>\n",
       "      <td>253.0</td>\n",
       "      <td>360.0</td>\n",
       "      <td>1.0</td>\n",
       "      <td>2</td>\n",
       "    </tr>\n",
       "    <tr>\n",
       "      <th>596</th>\n",
       "      <td>1</td>\n",
       "      <td>1</td>\n",
       "      <td>2</td>\n",
       "      <td>0</td>\n",
       "      <td>0</td>\n",
       "      <td>7583</td>\n",
       "      <td>0.0</td>\n",
       "      <td>187.0</td>\n",
       "      <td>360.0</td>\n",
       "      <td>1.0</td>\n",
       "      <td>2</td>\n",
       "    </tr>\n",
       "    <tr>\n",
       "      <th>597</th>\n",
       "      <td>0</td>\n",
       "      <td>0</td>\n",
       "      <td>0</td>\n",
       "      <td>0</td>\n",
       "      <td>1</td>\n",
       "      <td>4583</td>\n",
       "      <td>0.0</td>\n",
       "      <td>133.0</td>\n",
       "      <td>360.0</td>\n",
       "      <td>0.0</td>\n",
       "      <td>1</td>\n",
       "    </tr>\n",
       "  </tbody>\n",
       "</table>\n",
       "<p>598 rows × 11 columns</p>\n",
       "</div>"
      ],
      "text/plain": [
       "     Gender  Married  Dependents  Education  Self_Employed  ApplicantIncome  \\\n",
       "0         1        0           0          0              0             5849   \n",
       "1         1        1           1          0              0             4583   \n",
       "2         1        1           0          0              1             3000   \n",
       "3         1        1           0          1              0             2583   \n",
       "4         1        0           0          0              0             6000   \n",
       "..      ...      ...         ...        ...            ...              ...   \n",
       "593       0        0           0          0              0             2900   \n",
       "594       1        1           3          0              0             4106   \n",
       "595       1        1           1          0              0             8072   \n",
       "596       1        1           2          0              0             7583   \n",
       "597       0        0           0          0              1             4583   \n",
       "\n",
       "     CoapplicantIncome  LoanAmount  Loan_Amount_Term  Credit_History  \\\n",
       "0                  0.0       120.0             360.0             1.0   \n",
       "1               1508.0       128.0             360.0             1.0   \n",
       "2                  0.0        66.0             360.0             1.0   \n",
       "3               2358.0       120.0             360.0             1.0   \n",
       "4                  0.0       141.0             360.0             1.0   \n",
       "..                 ...         ...               ...             ...   \n",
       "593                0.0        71.0             360.0             1.0   \n",
       "594                0.0        40.0             180.0             1.0   \n",
       "595              240.0       253.0             360.0             1.0   \n",
       "596                0.0       187.0             360.0             1.0   \n",
       "597                0.0       133.0             360.0             0.0   \n",
       "\n",
       "     Property_Area  \n",
       "0                2  \n",
       "1                0  \n",
       "2                2  \n",
       "3                2  \n",
       "4                2  \n",
       "..             ...  \n",
       "593              0  \n",
       "594              0  \n",
       "595              2  \n",
       "596              2  \n",
       "597              1  \n",
       "\n",
       "[598 rows x 11 columns]"
      ]
     },
     "execution_count": 79,
     "metadata": {},
     "output_type": "execute_result"
    }
   ],
   "source": [
    "X"
   ]
  },
  {
   "cell_type": "markdown",
   "id": "b6e70e1b",
   "metadata": {},
   "source": [
    "### Scalling The Features"
   ]
  },
  {
   "cell_type": "code",
   "execution_count": 80,
   "id": "f45e142b",
   "metadata": {},
   "outputs": [],
   "source": [
    "ms=MinMaxScaler()"
   ]
  },
  {
   "cell_type": "code",
   "execution_count": 81,
   "id": "50a0343e",
   "metadata": {},
   "outputs": [],
   "source": [
    "X_new=ms.fit_transform(X)"
   ]
  },
  {
   "cell_type": "code",
   "execution_count": 82,
   "id": "52a9944d",
   "metadata": {},
   "outputs": [
    {
     "data": {
      "text/plain": [
       "array([[1.        , 0.        , 0.        , ..., 0.74358974, 1.        ,\n",
       "        1.        ],\n",
       "       [1.        , 1.        , 0.25      , ..., 0.74358974, 1.        ,\n",
       "        0.        ],\n",
       "       [1.        , 1.        , 0.        , ..., 0.74358974, 1.        ,\n",
       "        1.        ],\n",
       "       ...,\n",
       "       [1.        , 1.        , 0.25      , ..., 0.74358974, 1.        ,\n",
       "        1.        ],\n",
       "       [1.        , 1.        , 0.5       , ..., 0.74358974, 1.        ,\n",
       "        1.        ],\n",
       "       [0.        , 0.        , 0.        , ..., 0.74358974, 0.        ,\n",
       "        0.5       ]])"
      ]
     },
     "execution_count": 82,
     "metadata": {},
     "output_type": "execute_result"
    }
   ],
   "source": [
    "X_new"
   ]
  },
  {
   "cell_type": "markdown",
   "id": "d518cdf9",
   "metadata": {},
   "source": [
    "### Spliting The DataSet"
   ]
  },
  {
   "cell_type": "code",
   "execution_count": 83,
   "id": "373bc5fd",
   "metadata": {},
   "outputs": [],
   "source": [
    "X_train,X_test,y_train,y_test=train_test_split(X_new,Y,test_size=0.2,random_state=45)"
   ]
  },
  {
   "cell_type": "markdown",
   "id": "8093e953",
   "metadata": {},
   "source": [
    "### Model Creation"
   ]
  },
  {
   "cell_type": "markdown",
   "id": "e4347ded",
   "metadata": {},
   "source": [
    "1. KNeighborsClassifier\n",
    "2. svc\n",
    "3. Naive Bayes\n",
    "5. DecisionTree\n",
    "6. AdaBoostClassifier\n",
    "7. GradientBoosting\n",
    "8. XGBClassifier"
   ]
  },
  {
   "cell_type": "code",
   "execution_count": 107,
   "id": "50a0787d",
   "metadata": {},
   "outputs": [],
   "source": [
    "knn=KNeighborsClassifier(n_neighbors=5)\n",
    "svm=SVC()\n",
    "nb=GaussianNB()\n",
    "dc=DecisionTreeClassifier(criterion='entropy')\n",
    "ad=AdaBoostClassifier()\n",
    "gr=GradientBoostingClassifier()\n",
    "xg=XGBClassifier()"
   ]
  },
  {
   "cell_type": "code",
   "execution_count": 108,
   "id": "05ca028c",
   "metadata": {},
   "outputs": [],
   "source": [
    "score=[]"
   ]
  },
  {
   "cell_type": "code",
   "execution_count": 109,
   "id": "701bee04",
   "metadata": {},
   "outputs": [],
   "source": [
    "models=[knn,svm,nb,dc,ad,gr,xg]"
   ]
  },
  {
   "cell_type": "code",
   "execution_count": 110,
   "id": "06cf54f9",
   "metadata": {
    "scrolled": true
   },
   "outputs": [
    {
     "name": "stdout",
     "output_type": "stream",
     "text": [
      "------------------------- KNeighborsClassifier() -------------------------\n",
      "              precision    recall  f1-score   support\n",
      "\n",
      "           0       1.00      0.33      0.50        48\n",
      "           1       0.69      1.00      0.82        72\n",
      "\n",
      "    accuracy                           0.73       120\n",
      "   macro avg       0.85      0.67      0.66       120\n",
      "weighted avg       0.82      0.73      0.69       120\n",
      "\n",
      "Score model = 73.33333333333333\n",
      "------------------------- SVC() -------------------------\n",
      "              precision    recall  f1-score   support\n",
      "\n",
      "           0       1.00      0.35      0.52        48\n",
      "           1       0.70      1.00      0.82        72\n",
      "\n",
      "    accuracy                           0.74       120\n",
      "   macro avg       0.85      0.68      0.67       120\n",
      "weighted avg       0.82      0.74      0.70       120\n",
      "\n",
      "Score model = 74.16666666666667\n",
      "------------------------- GaussianNB() -------------------------\n",
      "              precision    recall  f1-score   support\n",
      "\n",
      "           0       1.00      0.38      0.55        48\n",
      "           1       0.71      1.00      0.83        72\n",
      "\n",
      "    accuracy                           0.75       120\n",
      "   macro avg       0.85      0.69      0.69       120\n",
      "weighted avg       0.82      0.75      0.71       120\n",
      "\n",
      "Score model = 75.0\n",
      "------------------------- DecisionTreeClassifier(criterion='entropy') -------------------------\n",
      "              precision    recall  f1-score   support\n",
      "\n",
      "           0       0.53      0.33      0.41        48\n",
      "           1       0.64      0.81      0.72        72\n",
      "\n",
      "    accuracy                           0.62       120\n",
      "   macro avg       0.59      0.57      0.56       120\n",
      "weighted avg       0.60      0.62      0.59       120\n",
      "\n",
      "Score model = 61.66666666666667\n",
      "------------------------- AdaBoostClassifier() -------------------------\n",
      "              precision    recall  f1-score   support\n",
      "\n",
      "           0       1.00      0.38      0.55        48\n",
      "           1       0.71      1.00      0.83        72\n",
      "\n",
      "    accuracy                           0.75       120\n",
      "   macro avg       0.85      0.69      0.69       120\n",
      "weighted avg       0.82      0.75      0.71       120\n",
      "\n",
      "Score model = 75.0\n",
      "------------------------- GradientBoostingClassifier() -------------------------\n",
      "              precision    recall  f1-score   support\n",
      "\n",
      "           0       0.73      0.33      0.46        48\n",
      "           1       0.67      0.92      0.78        72\n",
      "\n",
      "    accuracy                           0.68       120\n",
      "   macro avg       0.70      0.62      0.62       120\n",
      "weighted avg       0.69      0.68      0.65       120\n",
      "\n",
      "Score model = 68.33333333333333\n",
      "------------------------- XGBClassifier(base_score=None, booster=None, callbacks=None,\n",
      "              colsample_bylevel=None, colsample_bynode=None,\n",
      "              colsample_bytree=None, device=None, early_stopping_rounds=None,\n",
      "              enable_categorical=False, eval_metric=None, feature_types=None,\n",
      "              gamma=None, grow_policy=None, importance_type=None,\n",
      "              interaction_constraints=None, learning_rate=None, max_bin=None,\n",
      "              max_cat_threshold=None, max_cat_to_onehot=None,\n",
      "              max_delta_step=None, max_depth=None, max_leaves=None,\n",
      "              min_child_weight=None, missing=nan, monotone_constraints=None,\n",
      "              multi_strategy=None, n_estimators=None, n_jobs=None,\n",
      "              num_parallel_tree=None, random_state=None, ...) -------------------------\n",
      "              precision    recall  f1-score   support\n",
      "\n",
      "           0       0.77      0.42      0.54        48\n",
      "           1       0.70      0.92      0.80        72\n",
      "\n",
      "    accuracy                           0.72       120\n",
      "   macro avg       0.74      0.67      0.67       120\n",
      "weighted avg       0.73      0.72      0.69       120\n",
      "\n",
      "Score model = 71.66666666666667\n"
     ]
    }
   ],
   "source": [
    "for model in models:\n",
    "    print('-'*25,model,'-'*25)\n",
    "    model.fit(X_train,y_train)\n",
    "    y_pred=model.predict(X_test)\n",
    "    print(classification_report(y_test,y_pred))\n",
    "    model_score=accuracy_score(y_test,y_pred)*100\n",
    "    print(\"Score model = {}\".format(model_score))\n",
    "    score.append(model_score)"
   ]
  },
  {
   "cell_type": "markdown",
   "id": "deda6a00",
   "metadata": {},
   "source": [
    "### Data Frame Of Accuracy Of Each Model"
   ]
  },
  {
   "cell_type": "code",
   "execution_count": 111,
   "id": "516b6a9f",
   "metadata": {},
   "outputs": [
    {
     "data": {
      "text/plain": [
       "[73.33333333333333,\n",
       " 74.16666666666667,\n",
       " 75.0,\n",
       " 61.66666666666667,\n",
       " 75.0,\n",
       " 68.33333333333333,\n",
       " 71.66666666666667]"
      ]
     },
     "execution_count": 111,
     "metadata": {},
     "output_type": "execute_result"
    }
   ],
   "source": [
    "score"
   ]
  },
  {
   "cell_type": "code",
   "execution_count": 112,
   "id": "e35b45f0",
   "metadata": {},
   "outputs": [
    {
     "data": {
      "text/html": [
       "<style type=\"text/css\">\n",
       "#T_3b59d_row2_col1, #T_3b59d_row4_col1 {\n",
       "  background-color: lightgreen;\n",
       "}\n",
       "</style>\n",
       "<table id=\"T_3b59d\">\n",
       "  <thead>\n",
       "    <tr>\n",
       "      <th class=\"blank level0\" >&nbsp;</th>\n",
       "      <th id=\"T_3b59d_level0_col0\" class=\"col_heading level0 col0\" >Algorithm</th>\n",
       "      <th id=\"T_3b59d_level0_col1\" class=\"col_heading level0 col1\" >Accuracy</th>\n",
       "    </tr>\n",
       "  </thead>\n",
       "  <tbody>\n",
       "    <tr>\n",
       "      <th id=\"T_3b59d_level0_row0\" class=\"row_heading level0 row0\" >1</th>\n",
       "      <td id=\"T_3b59d_row0_col0\" class=\"data row0 col0\" > KNeighborsClassifier</td>\n",
       "      <td id=\"T_3b59d_row0_col1\" class=\"data row0 col1\" >73.333333</td>\n",
       "    </tr>\n",
       "    <tr>\n",
       "      <th id=\"T_3b59d_level0_row1\" class=\"row_heading level0 row1\" >2</th>\n",
       "      <td id=\"T_3b59d_row1_col0\" class=\"data row1 col0\" >svc</td>\n",
       "      <td id=\"T_3b59d_row1_col1\" class=\"data row1 col1\" >74.166667</td>\n",
       "    </tr>\n",
       "    <tr>\n",
       "      <th id=\"T_3b59d_level0_row2\" class=\"row_heading level0 row2\" >3</th>\n",
       "      <td id=\"T_3b59d_row2_col0\" class=\"data row2 col0\" >Naive</td>\n",
       "      <td id=\"T_3b59d_row2_col1\" class=\"data row2 col1\" >75.000000</td>\n",
       "    </tr>\n",
       "    <tr>\n",
       "      <th id=\"T_3b59d_level0_row3\" class=\"row_heading level0 row3\" >4</th>\n",
       "      <td id=\"T_3b59d_row3_col0\" class=\"data row3 col0\" >DecisionTree</td>\n",
       "      <td id=\"T_3b59d_row3_col1\" class=\"data row3 col1\" >61.666667</td>\n",
       "    </tr>\n",
       "    <tr>\n",
       "      <th id=\"T_3b59d_level0_row4\" class=\"row_heading level0 row4\" >5</th>\n",
       "      <td id=\"T_3b59d_row4_col0\" class=\"data row4 col0\" >AdaBoostClassifier</td>\n",
       "      <td id=\"T_3b59d_row4_col1\" class=\"data row4 col1\" >75.000000</td>\n",
       "    </tr>\n",
       "    <tr>\n",
       "      <th id=\"T_3b59d_level0_row5\" class=\"row_heading level0 row5\" >6</th>\n",
       "      <td id=\"T_3b59d_row5_col0\" class=\"data row5 col0\" >GradientBoosting</td>\n",
       "      <td id=\"T_3b59d_row5_col1\" class=\"data row5 col1\" >68.333333</td>\n",
       "    </tr>\n",
       "    <tr>\n",
       "      <th id=\"T_3b59d_level0_row6\" class=\"row_heading level0 row6\" >7</th>\n",
       "      <td id=\"T_3b59d_row6_col0\" class=\"data row6 col0\" >XGBClassifier</td>\n",
       "      <td id=\"T_3b59d_row6_col1\" class=\"data row6 col1\" >71.666667</td>\n",
       "    </tr>\n",
       "  </tbody>\n",
       "</table>\n"
      ],
      "text/plain": [
       "<pandas.io.formats.style.Styler at 0x21efb28f190>"
      ]
     },
     "execution_count": 112,
     "metadata": {},
     "output_type": "execute_result"
    }
   ],
   "source": [
    "Algorithm=[' KNeighborsClassifier','svc','Naive','DecisionTree','AdaBoostClassifier','GradientBoosting','XGBClassifier']\n",
    "Accuracy=score\n",
    "Data=pd.DataFrame({'Algorithm':Algorithm,'Accuracy':Accuracy},index=[1,2,3,4,5,6,7])\n",
    "Data.style.highlight_max(subset='Accuracy',color='lightgreen')"
   ]
  },
  {
   "cell_type": "markdown",
   "id": "903e5bac",
   "metadata": {},
   "source": [
    "### Inbalanced Dataset Handling Using SMOTEENN"
   ]
  },
  {
   "cell_type": "code",
   "execution_count": 113,
   "id": "c39d65d0",
   "metadata": {},
   "outputs": [],
   "source": [
    "sm=SMOTEENN(random_state=1)\n",
    "X_sm,y_sm=sm.fit_resample(X_new,Y)"
   ]
  },
  {
   "cell_type": "code",
   "execution_count": 115,
   "id": "81bd32bb",
   "metadata": {},
   "outputs": [
    {
     "name": "stdout",
     "output_type": "stream",
     "text": [
      "1    226\n",
      "0    224\n",
      "Name: Loan_Status, dtype: int64\n"
     ]
    },
    {
     "data": {
      "image/png": "[encoded data removed]",
      "text/plain": [
       "<Figure size 400x400 with 1 Axes>"
      ]
     },
     "metadata": {},
     "output_type": "display_data"
    }
   ],
   "source": [
    "LoanStatus1=y_sm.value_counts()\n",
    "print(h1)\n",
    "binary=['YES','NO',]\n",
    "plt.figure(figsize=(4,4))\n",
    "plt.pie(LoanStatus1,explode=[0.1,0],labels=binary, autopct='%2.1f%%',wedgeprops={\"width\":0.5})\n",
    "plt.title('Loan_Status')\n",
    "plt.legend(title='output')\n",
    "plt.show()"
   ]
  },
  {
   "cell_type": "code",
   "execution_count": 116,
   "id": "cdb098f8",
   "metadata": {},
   "outputs": [],
   "source": [
    "X_train_sm,X_test_sm,y_train_sm,y_test_sm=train_test_split(X_sm,y_sm,test_size=0.2,random_state=45)"
   ]
  },
  {
   "cell_type": "code",
   "execution_count": 121,
   "id": "e606816a",
   "metadata": {},
   "outputs": [],
   "source": [
    "knn=KNeighborsClassifier(n_neighbors=5)\n",
    "svm=SVC()\n",
    "nb=GaussianNB()\n",
    "dc=DecisionTreeClassifier(criterion='entropy')\n",
    "ad=AdaBoostClassifier()\n",
    "gr=GradientBoostingClassifier()\n",
    "xg_bal=XGBClassifier()\n",
    "score1=[]\n",
    "models=[knn,svm,nb,dc,ad,gr,xg_bal]"
   ]
  },
  {
   "cell_type": "code",
   "execution_count": 122,
   "id": "7988bc9d",
   "metadata": {
    "scrolled": true
   },
   "outputs": [
    {
     "name": "stdout",
     "output_type": "stream",
     "text": [
      "------------------------- KNeighborsClassifier() -------------------------\n",
      "              precision    recall  f1-score   support\n",
      "\n",
      "           0       0.95      0.93      0.94        45\n",
      "           1       0.93      0.96      0.95        45\n",
      "\n",
      "    accuracy                           0.94        90\n",
      "   macro avg       0.94      0.94      0.94        90\n",
      "weighted avg       0.94      0.94      0.94        90\n",
      "\n",
      "Score model = 94.44444444444444\n",
      "------------------------- SVC() -------------------------\n",
      "              precision    recall  f1-score   support\n",
      "\n",
      "           0       1.00      0.76      0.86        45\n",
      "           1       0.80      1.00      0.89        45\n",
      "\n",
      "    accuracy                           0.88        90\n",
      "   macro avg       0.90      0.88      0.88        90\n",
      "weighted avg       0.90      0.88      0.88        90\n",
      "\n",
      "Score model = 87.77777777777777\n",
      "------------------------- GaussianNB() -------------------------\n",
      "              precision    recall  f1-score   support\n",
      "\n",
      "           0       0.97      0.78      0.86        45\n",
      "           1       0.81      0.98      0.89        45\n",
      "\n",
      "    accuracy                           0.88        90\n",
      "   macro avg       0.89      0.88      0.88        90\n",
      "weighted avg       0.89      0.88      0.88        90\n",
      "\n",
      "Score model = 87.77777777777777\n",
      "------------------------- DecisionTreeClassifier(criterion='entropy') -------------------------\n",
      "              precision    recall  f1-score   support\n",
      "\n",
      "           0       0.96      0.96      0.96        45\n",
      "           1       0.96      0.96      0.96        45\n",
      "\n",
      "    accuracy                           0.96        90\n",
      "   macro avg       0.96      0.96      0.96        90\n",
      "weighted avg       0.96      0.96      0.96        90\n",
      "\n",
      "Score model = 95.55555555555556\n",
      "------------------------- AdaBoostClassifier() -------------------------\n",
      "              precision    recall  f1-score   support\n",
      "\n",
      "           0       0.91      0.89      0.90        45\n",
      "           1       0.89      0.91      0.90        45\n",
      "\n",
      "    accuracy                           0.90        90\n",
      "   macro avg       0.90      0.90      0.90        90\n",
      "weighted avg       0.90      0.90      0.90        90\n",
      "\n",
      "Score model = 90.0\n",
      "------------------------- GradientBoostingClassifier() -------------------------\n",
      "              precision    recall  f1-score   support\n",
      "\n",
      "           0       0.95      0.89      0.92        45\n",
      "           1       0.90      0.96      0.92        45\n",
      "\n",
      "    accuracy                           0.92        90\n",
      "   macro avg       0.92      0.92      0.92        90\n",
      "weighted avg       0.92      0.92      0.92        90\n",
      "\n",
      "Score model = 92.22222222222223\n",
      "------------------------- XGBClassifier(base_score=None, booster=None, callbacks=None,\n",
      "              colsample_bylevel=None, colsample_bynode=None,\n",
      "              colsample_bytree=None, device=None, early_stopping_rounds=None,\n",
      "              enable_categorical=False, eval_metric=None, feature_types=None,\n",
      "              gamma=None, grow_policy=None, importance_type=None,\n",
      "              interaction_constraints=None, learning_rate=None, max_bin=None,\n",
      "              max_cat_threshold=None, max_cat_to_onehot=None,\n",
      "              max_delta_step=None, max_depth=None, max_leaves=None,\n",
      "              min_child_weight=None, missing=nan, monotone_constraints=None,\n",
      "              multi_strategy=None, n_estimators=None, n_jobs=None,\n",
      "              num_parallel_tree=None, random_state=None, ...) -------------------------\n",
      "              precision    recall  f1-score   support\n",
      "\n",
      "           0       0.93      0.96      0.95        45\n",
      "           1       0.95      0.93      0.94        45\n",
      "\n",
      "    accuracy                           0.94        90\n",
      "   macro avg       0.94      0.94      0.94        90\n",
      "weighted avg       0.94      0.94      0.94        90\n",
      "\n",
      "Score model = 94.44444444444444\n"
     ]
    }
   ],
   "source": [
    "for model in models:\n",
    "    print('-'*25,model,'-'*25)\n",
    "    model.fit(X_train_sm,y_train_sm)\n",
    "    y_pred_sm=model.predict(X_test_sm)\n",
    "    print(classification_report(y_test_sm,y_pred_sm))\n",
    "    model_score=accuracy_score(y_test_sm,y_pred_sm)*100\n",
    "    print(\"Score model = {}\".format(model_score))\n",
    "    score1.append(model_score)"
   ]
  },
  {
   "cell_type": "code",
   "execution_count": 123,
   "id": "7be9aa5f",
   "metadata": {},
   "outputs": [
    {
     "data": {
      "text/html": [
       "<style type=\"text/css\">\n",
       "#T_f61e3_row3_col1 {\n",
       "  background-color: lightgreen;\n",
       "}\n",
       "</style>\n",
       "<table id=\"T_f61e3\">\n",
       "  <thead>\n",
       "    <tr>\n",
       "      <th class=\"blank level0\" >&nbsp;</th>\n",
       "      <th id=\"T_f61e3_level0_col0\" class=\"col_heading level0 col0\" >Algorithm</th>\n",
       "      <th id=\"T_f61e3_level0_col1\" class=\"col_heading level0 col1\" >Accuracy</th>\n",
       "    </tr>\n",
       "  </thead>\n",
       "  <tbody>\n",
       "    <tr>\n",
       "      <th id=\"T_f61e3_level0_row0\" class=\"row_heading level0 row0\" >1</th>\n",
       "      <td id=\"T_f61e3_row0_col0\" class=\"data row0 col0\" > KNeighborsClassifier</td>\n",
       "      <td id=\"T_f61e3_row0_col1\" class=\"data row0 col1\" >94.444444</td>\n",
       "    </tr>\n",
       "    <tr>\n",
       "      <th id=\"T_f61e3_level0_row1\" class=\"row_heading level0 row1\" >2</th>\n",
       "      <td id=\"T_f61e3_row1_col0\" class=\"data row1 col0\" >svc</td>\n",
       "      <td id=\"T_f61e3_row1_col1\" class=\"data row1 col1\" >87.777778</td>\n",
       "    </tr>\n",
       "    <tr>\n",
       "      <th id=\"T_f61e3_level0_row2\" class=\"row_heading level0 row2\" >3</th>\n",
       "      <td id=\"T_f61e3_row2_col0\" class=\"data row2 col0\" >Naive</td>\n",
       "      <td id=\"T_f61e3_row2_col1\" class=\"data row2 col1\" >87.777778</td>\n",
       "    </tr>\n",
       "    <tr>\n",
       "      <th id=\"T_f61e3_level0_row3\" class=\"row_heading level0 row3\" >4</th>\n",
       "      <td id=\"T_f61e3_row3_col0\" class=\"data row3 col0\" >DecisionTree</td>\n",
       "      <td id=\"T_f61e3_row3_col1\" class=\"data row3 col1\" >95.555556</td>\n",
       "    </tr>\n",
       "    <tr>\n",
       "      <th id=\"T_f61e3_level0_row4\" class=\"row_heading level0 row4\" >5</th>\n",
       "      <td id=\"T_f61e3_row4_col0\" class=\"data row4 col0\" >AdaBoostClassifier</td>\n",
       "      <td id=\"T_f61e3_row4_col1\" class=\"data row4 col1\" >90.000000</td>\n",
       "    </tr>\n",
       "    <tr>\n",
       "      <th id=\"T_f61e3_level0_row5\" class=\"row_heading level0 row5\" >6</th>\n",
       "      <td id=\"T_f61e3_row5_col0\" class=\"data row5 col0\" >GradientBoosting</td>\n",
       "      <td id=\"T_f61e3_row5_col1\" class=\"data row5 col1\" >92.222222</td>\n",
       "    </tr>\n",
       "    <tr>\n",
       "      <th id=\"T_f61e3_level0_row6\" class=\"row_heading level0 row6\" >7</th>\n",
       "      <td id=\"T_f61e3_row6_col0\" class=\"data row6 col0\" >XGBClassifier</td>\n",
       "      <td id=\"T_f61e3_row6_col1\" class=\"data row6 col1\" >94.444444</td>\n",
       "    </tr>\n",
       "  </tbody>\n",
       "</table>\n"
      ],
      "text/plain": [
       "<pandas.io.formats.style.Styler at 0x21efba53d90>"
      ]
     },
     "execution_count": 123,
     "metadata": {},
     "output_type": "execute_result"
    }
   ],
   "source": [
    "Algorithm=[' KNeighborsClassifier','svc','Naive','DecisionTree','AdaBoostClassifier','GradientBoosting','XGBClassifier']\n",
    "Accuracy=score1\n",
    "Data1=pd.DataFrame({'Algorithm':Algorithm,'Accuracy':Accuracy},index=[1,2,3,4,5,6,7])\n",
    "Data1.style.highlight_max(subset='Accuracy',color='lightgreen')"
   ]
  },
  {
   "cell_type": "markdown",
   "id": "9876eedd",
   "metadata": {},
   "source": [
    "### Principle Component Analysis (PCA)"
   ]
  },
  {
   "cell_type": "code",
   "execution_count": 129,
   "id": "1a0d98dd",
   "metadata": {},
   "outputs": [],
   "source": [
    "pca=PCA(n_components=9)"
   ]
  },
  {
   "cell_type": "code",
   "execution_count": 130,
   "id": "03f77a19",
   "metadata": {},
   "outputs": [],
   "source": [
    "X_trainpca=pca.fit_transform(X_train)\n",
    "X_testpca=pca.fit_transform(X_test)"
   ]
  },
  {
   "cell_type": "code",
   "execution_count": 131,
   "id": "0c99bdc9",
   "metadata": {},
   "outputs": [
    {
     "data": {
      "text/plain": [
       "array([[ 0.51215968, -0.18716761,  0.02906713, ...,  0.01697899,\n",
       "        -0.01989379,  0.00329273],\n",
       "       [ 0.49795158, -0.03371836,  0.4259208 , ...,  0.03771153,\n",
       "        -0.0411866 ,  0.26203444],\n",
       "       [-0.39301973, -0.24317961,  0.02640756, ...,  0.03438283,\n",
       "        -0.07092172,  0.25812726],\n",
       "       ...,\n",
       "       [ 0.16074218, -0.10874532,  0.33800833, ..., -0.24348629,\n",
       "         0.01251769, -0.0326978 ],\n",
       "       [-0.45940377, -0.18824253,  0.56644603, ...,  0.45894942,\n",
       "        -0.07168721,  0.05630548],\n",
       "       [-0.32911609, -0.40854353, -0.36761289, ..., -0.22903115,\n",
       "        -0.0376367 , -0.0911933 ]])"
      ]
     },
     "execution_count": 131,
     "metadata": {},
     "output_type": "execute_result"
    }
   ],
   "source": [
    "X_trainpca"
   ]
  },
  {
   "cell_type": "code",
   "execution_count": 132,
   "id": "56ff340b",
   "metadata": {},
   "outputs": [],
   "source": [
    "knn=KNeighborsClassifier(n_neighbors=5)\n",
    "svm=SVC()\n",
    "nb=GaussianNB()\n",
    "dc=DecisionTreeClassifier(criterion='entropy')\n",
    "ad=AdaBoostClassifier()\n",
    "gr=GradientBoostingClassifier()\n",
    "xg=XGBClassifier()\n",
    "score2=[]\n",
    "models=[knn,svm,nb,dc,ad,gr,xg]"
   ]
  },
  {
   "cell_type": "code",
   "execution_count": 133,
   "id": "957459ed",
   "metadata": {
    "scrolled": true
   },
   "outputs": [
    {
     "name": "stdout",
     "output_type": "stream",
     "text": [
      "-------------------- KNeighborsClassifier() --------------------\n",
      "              precision    recall  f1-score   support\n",
      "\n",
      "           0       0.77      0.42      0.54        48\n",
      "           1       0.70      0.92      0.80        72\n",
      "\n",
      "    accuracy                           0.72       120\n",
      "   macro avg       0.74      0.67      0.67       120\n",
      "weighted avg       0.73      0.72      0.69       120\n",
      "\n",
      "Score model = 61.66666666666667\n",
      "-------------------- SVC() --------------------\n",
      "              precision    recall  f1-score   support\n",
      "\n",
      "           0       0.77      0.42      0.54        48\n",
      "           1       0.70      0.92      0.80        72\n",
      "\n",
      "    accuracy                           0.72       120\n",
      "   macro avg       0.74      0.67      0.67       120\n",
      "weighted avg       0.73      0.72      0.69       120\n",
      "\n",
      "Score model = 59.166666666666664\n",
      "-------------------- GaussianNB() --------------------\n",
      "              precision    recall  f1-score   support\n",
      "\n",
      "           0       0.77      0.42      0.54        48\n",
      "           1       0.70      0.92      0.80        72\n",
      "\n",
      "    accuracy                           0.72       120\n",
      "   macro avg       0.74      0.67      0.67       120\n",
      "weighted avg       0.73      0.72      0.69       120\n",
      "\n",
      "Score model = 59.166666666666664\n",
      "-------------------- DecisionTreeClassifier(criterion='entropy') --------------------\n",
      "              precision    recall  f1-score   support\n",
      "\n",
      "           0       0.77      0.42      0.54        48\n",
      "           1       0.70      0.92      0.80        72\n",
      "\n",
      "    accuracy                           0.72       120\n",
      "   macro avg       0.74      0.67      0.67       120\n",
      "weighted avg       0.73      0.72      0.69       120\n",
      "\n",
      "Score model = 56.666666666666664\n",
      "-------------------- AdaBoostClassifier() --------------------\n",
      "              precision    recall  f1-score   support\n",
      "\n",
      "           0       0.77      0.42      0.54        48\n",
      "           1       0.70      0.92      0.80        72\n",
      "\n",
      "    accuracy                           0.72       120\n",
      "   macro avg       0.74      0.67      0.67       120\n",
      "weighted avg       0.73      0.72      0.69       120\n",
      "\n",
      "Score model = 57.49999999999999\n",
      "-------------------- GradientBoostingClassifier() --------------------\n",
      "              precision    recall  f1-score   support\n",
      "\n",
      "           0       0.77      0.42      0.54        48\n",
      "           1       0.70      0.92      0.80        72\n",
      "\n",
      "    accuracy                           0.72       120\n",
      "   macro avg       0.74      0.67      0.67       120\n",
      "weighted avg       0.73      0.72      0.69       120\n",
      "\n",
      "Score model = 64.16666666666667\n",
      "-------------------- XGBClassifier(base_score=None, booster=None, callbacks=None,\n",
      "              colsample_bylevel=None, colsample_bynode=None,\n",
      "              colsample_bytree=None, device=None, early_stopping_rounds=None,\n",
      "              enable_categorical=False, eval_metric=None, feature_types=None,\n",
      "              gamma=None, grow_policy=None, importance_type=None,\n",
      "              interaction_constraints=None, learning_rate=None, max_bin=None,\n",
      "              max_cat_threshold=None, max_cat_to_onehot=None,\n",
      "              max_delta_step=None, max_depth=None, max_leaves=None,\n",
      "              min_child_weight=None, missing=nan, monotone_constraints=None,\n",
      "              multi_strategy=None, n_estimators=None, n_jobs=None,\n",
      "              num_parallel_tree=None, random_state=None, ...) --------------------\n",
      "              precision    recall  f1-score   support\n",
      "\n",
      "           0       0.77      0.42      0.54        48\n",
      "           1       0.70      0.92      0.80        72\n",
      "\n",
      "    accuracy                           0.72       120\n",
      "   macro avg       0.74      0.67      0.67       120\n",
      "weighted avg       0.73      0.72      0.69       120\n",
      "\n",
      "Score model = 60.0\n"
     ]
    }
   ],
   "source": [
    "for model in models:\n",
    "    print('-'*20,model,'-'*20)\n",
    "    model.fit(X_trainpca,y_train)\n",
    "    y_predpca=model.predict(X_testpca)\n",
    "    print(classification_report(y_test,y_pred))\n",
    "    model_score=accuracy_score(y_test,y_predpca)*100\n",
    "    print(\"Score model = {}\".format(model_score))\n",
    "    score2.append(model_score)"
   ]
  },
  {
   "cell_type": "code",
   "execution_count": 134,
   "id": "5d0a5a03",
   "metadata": {},
   "outputs": [
    {
     "data": {
      "text/html": [
       "<style type=\"text/css\">\n",
       "#T_382c5_row5_col1 {\n",
       "  background-color: lightgreen;\n",
       "}\n",
       "</style>\n",
       "<table id=\"T_382c5\">\n",
       "  <thead>\n",
       "    <tr>\n",
       "      <th class=\"blank level0\" >&nbsp;</th>\n",
       "      <th id=\"T_382c5_level0_col0\" class=\"col_heading level0 col0\" >Algorithm</th>\n",
       "      <th id=\"T_382c5_level0_col1\" class=\"col_heading level0 col1\" >Accuracy</th>\n",
       "    </tr>\n",
       "  </thead>\n",
       "  <tbody>\n",
       "    <tr>\n",
       "      <th id=\"T_382c5_level0_row0\" class=\"row_heading level0 row0\" >1</th>\n",
       "      <td id=\"T_382c5_row0_col0\" class=\"data row0 col0\" > KNeighborsClassifier</td>\n",
       "      <td id=\"T_382c5_row0_col1\" class=\"data row0 col1\" >61.666667</td>\n",
       "    </tr>\n",
       "    <tr>\n",
       "      <th id=\"T_382c5_level0_row1\" class=\"row_heading level0 row1\" >2</th>\n",
       "      <td id=\"T_382c5_row1_col0\" class=\"data row1 col0\" >svc</td>\n",
       "      <td id=\"T_382c5_row1_col1\" class=\"data row1 col1\" >59.166667</td>\n",
       "    </tr>\n",
       "    <tr>\n",
       "      <th id=\"T_382c5_level0_row2\" class=\"row_heading level0 row2\" >3</th>\n",
       "      <td id=\"T_382c5_row2_col0\" class=\"data row2 col0\" >Naive</td>\n",
       "      <td id=\"T_382c5_row2_col1\" class=\"data row2 col1\" >59.166667</td>\n",
       "    </tr>\n",
       "    <tr>\n",
       "      <th id=\"T_382c5_level0_row3\" class=\"row_heading level0 row3\" >4</th>\n",
       "      <td id=\"T_382c5_row3_col0\" class=\"data row3 col0\" >DecisionTree</td>\n",
       "      <td id=\"T_382c5_row3_col1\" class=\"data row3 col1\" >56.666667</td>\n",
       "    </tr>\n",
       "    <tr>\n",
       "      <th id=\"T_382c5_level0_row4\" class=\"row_heading level0 row4\" >5</th>\n",
       "      <td id=\"T_382c5_row4_col0\" class=\"data row4 col0\" >AdaBoostClassifier</td>\n",
       "      <td id=\"T_382c5_row4_col1\" class=\"data row4 col1\" >57.500000</td>\n",
       "    </tr>\n",
       "    <tr>\n",
       "      <th id=\"T_382c5_level0_row5\" class=\"row_heading level0 row5\" >6</th>\n",
       "      <td id=\"T_382c5_row5_col0\" class=\"data row5 col0\" >GradientBoosting</td>\n",
       "      <td id=\"T_382c5_row5_col1\" class=\"data row5 col1\" >64.166667</td>\n",
       "    </tr>\n",
       "    <tr>\n",
       "      <th id=\"T_382c5_level0_row6\" class=\"row_heading level0 row6\" >7</th>\n",
       "      <td id=\"T_382c5_row6_col0\" class=\"data row6 col0\" >XGBClassifier</td>\n",
       "      <td id=\"T_382c5_row6_col1\" class=\"data row6 col1\" >60.000000</td>\n",
       "    </tr>\n",
       "  </tbody>\n",
       "</table>\n"
      ],
      "text/plain": [
       "<pandas.io.formats.style.Styler at 0x21efba52920>"
      ]
     },
     "execution_count": 134,
     "metadata": {},
     "output_type": "execute_result"
    }
   ],
   "source": [
    "Algorithm=[' KNeighborsClassifier','svc','Naive','DecisionTree','AdaBoostClassifier','GradientBoosting','XGBClassifier']\n",
    "Accuracy=score2\n",
    "Data1=pd.DataFrame({'Algorithm':Algorithm,'Accuracy':Accuracy},index=[1,2,3,4,5,6,7])\n",
    "Data1.style.highlight_max(subset='Accuracy',color='lightgreen')"
   ]
  },
  {
   "cell_type": "markdown",
   "id": "7457fdab",
   "metadata": {},
   "source": [
    "### Detecting Outliers"
   ]
  },
  {
   "cell_type": "code",
   "execution_count": 136,
   "id": "05138714",
   "metadata": {},
   "outputs": [
    {
     "data": {
      "image/png": "[encoded data removed]",
      "text/plain": [
       "<Figure size 1800x1100 with 11 Axes>"
      ]
     },
     "metadata": {},
     "output_type": "display_data"
    }
   ],
   "source": [
    "feautures=['Gender','Married','Dependents','Education','Self_Employed','ApplicantIncome','CoapplicantIncome','LoanAmount','Loan_Amount_Term','Credit_History','Property_Area']\n",
    "plt.figure(figsize=(18,11))\n",
    "for i,j in zip(range(1,18),feautures):\n",
    "    plt.subplot(5,4,i)\n",
    "    sns.boxplot(data=df,x=j)\n",
    "    plt.tight_layout()\n",
    "    sns.set_theme()\n",
    "    plt.title('Boxplot of {}'.format(j))"
   ]
  },
  {
   "cell_type": "markdown",
   "id": "88dc29e7",
   "metadata": {},
   "source": [
    "I have identified outliers in the following variables: Gender, Education, Self_Employed, ApplicantIncome, CoapplicantIncome, LoanAmount, Loan_Amount_Term, and Credit_History."
   ]
  },
  {
   "cell_type": "markdown",
   "id": "4f233937",
   "metadata": {},
   "source": [
    "### Remove Outliers"
   ]
  },
  {
   "cell_type": "code",
   "execution_count": 148,
   "id": "94259582",
   "metadata": {},
   "outputs": [],
   "source": [
    "df1 = df.copy()\n",
    "def remove_outliers_IQR (col):\n",
    "    percentile25 =df1[col].quantile (0.25)\n",
    "    percentile75 = df1[col].quantile(0.75)\n",
    "    iqr = percentile75 - percentile25\n",
    "    upper_limit = percentile75 + 1.5 *iqr\n",
    "    lower_limit = percentile25 - 1.5* iqr\n",
    "    print(\"Upper limit\", upper_limit)\n",
    "    print(\"Lower limit\", lower_limit)\n",
    "    df1[col]=np.where(df1[col]>upper_limit, upper_limit, np.where(df1[col]<lower_limit, lower_limit,df1[col]))\n",
    "    return df1[df1[col]> upper_limit]"
   ]
  },
  {
   "cell_type": "code",
   "execution_count": 149,
   "id": "45ad17ea",
   "metadata": {},
   "outputs": [
    {
     "name": "stdout",
     "output_type": "stream",
     "text": [
      "Upper limit 1.0\n",
      "Lower limit 1.0\n"
     ]
    },
    {
     "data": {
      "text/html": [
       "<div>\n",
       "<style scoped>\n",
       "    .dataframe tbody tr th:only-of-type {\n",
       "        vertical-align: middle;\n",
       "    }\n",
       "\n",
       "    .dataframe tbody tr th {\n",
       "        vertical-align: top;\n",
       "    }\n",
       "\n",
       "    .dataframe thead th {\n",
       "        text-align: right;\n",
       "    }\n",
       "</style>\n",
       "<table border=\"1\" class=\"dataframe\">\n",
       "  <thead>\n",
       "    <tr style=\"text-align: right;\">\n",
       "      <th></th>\n",
       "      <th>Gender</th>\n",
       "      <th>Married</th>\n",
       "      <th>Dependents</th>\n",
       "      <th>Education</th>\n",
       "      <th>Self_Employed</th>\n",
       "      <th>ApplicantIncome</th>\n",
       "      <th>CoapplicantIncome</th>\n",
       "      <th>LoanAmount</th>\n",
       "      <th>Loan_Amount_Term</th>\n",
       "      <th>Credit_History</th>\n",
       "      <th>Property_Area</th>\n",
       "      <th>Loan_Status</th>\n",
       "    </tr>\n",
       "  </thead>\n",
       "  <tbody>\n",
       "  </tbody>\n",
       "</table>\n",
       "</div>"
      ],
      "text/plain": [
       "Empty DataFrame\n",
       "Columns: [Gender, Married, Dependents, Education, Self_Employed, ApplicantIncome, CoapplicantIncome, LoanAmount, Loan_Amount_Term, Credit_History, Property_Area, Loan_Status]\n",
       "Index: []"
      ]
     },
     "execution_count": 149,
     "metadata": {},
     "output_type": "execute_result"
    }
   ],
   "source": [
    "remove_outliers_IQR('Gender')"
   ]
  },
  {
   "cell_type": "code",
   "execution_count": 150,
   "id": "aaa542bf",
   "metadata": {},
   "outputs": [
    {
     "name": "stdout",
     "output_type": "stream",
     "text": [
      "Upper limit 0.0\n",
      "Lower limit 0.0\n"
     ]
    },
    {
     "data": {
      "text/html": [
       "<div>\n",
       "<style scoped>\n",
       "    .dataframe tbody tr th:only-of-type {\n",
       "        vertical-align: middle;\n",
       "    }\n",
       "\n",
       "    .dataframe tbody tr th {\n",
       "        vertical-align: top;\n",
       "    }\n",
       "\n",
       "    .dataframe thead th {\n",
       "        text-align: right;\n",
       "    }\n",
       "</style>\n",
       "<table border=\"1\" class=\"dataframe\">\n",
       "  <thead>\n",
       "    <tr style=\"text-align: right;\">\n",
       "      <th></th>\n",
       "      <th>Gender</th>\n",
       "      <th>Married</th>\n",
       "      <th>Dependents</th>\n",
       "      <th>Education</th>\n",
       "      <th>Self_Employed</th>\n",
       "      <th>ApplicantIncome</th>\n",
       "      <th>CoapplicantIncome</th>\n",
       "      <th>LoanAmount</th>\n",
       "      <th>Loan_Amount_Term</th>\n",
       "      <th>Credit_History</th>\n",
       "      <th>Property_Area</th>\n",
       "      <th>Loan_Status</th>\n",
       "    </tr>\n",
       "  </thead>\n",
       "  <tbody>\n",
       "  </tbody>\n",
       "</table>\n",
       "</div>"
      ],
      "text/plain": [
       "Empty DataFrame\n",
       "Columns: [Gender, Married, Dependents, Education, Self_Employed, ApplicantIncome, CoapplicantIncome, LoanAmount, Loan_Amount_Term, Credit_History, Property_Area, Loan_Status]\n",
       "Index: []"
      ]
     },
     "execution_count": 150,
     "metadata": {},
     "output_type": "execute_result"
    }
   ],
   "source": [
    "remove_outliers_IQR('Education')"
   ]
  },
  {
   "cell_type": "code",
   "execution_count": 151,
   "id": "0134de32",
   "metadata": {},
   "outputs": [
    {
     "name": "stdout",
     "output_type": "stream",
     "text": [
      "Upper limit 0.0\n",
      "Lower limit 0.0\n"
     ]
    },
    {
     "data": {
      "text/html": [
       "<div>\n",
       "<style scoped>\n",
       "    .dataframe tbody tr th:only-of-type {\n",
       "        vertical-align: middle;\n",
       "    }\n",
       "\n",
       "    .dataframe tbody tr th {\n",
       "        vertical-align: top;\n",
       "    }\n",
       "\n",
       "    .dataframe thead th {\n",
       "        text-align: right;\n",
       "    }\n",
       "</style>\n",
       "<table border=\"1\" class=\"dataframe\">\n",
       "  <thead>\n",
       "    <tr style=\"text-align: right;\">\n",
       "      <th></th>\n",
       "      <th>Gender</th>\n",
       "      <th>Married</th>\n",
       "      <th>Dependents</th>\n",
       "      <th>Education</th>\n",
       "      <th>Self_Employed</th>\n",
       "      <th>ApplicantIncome</th>\n",
       "      <th>CoapplicantIncome</th>\n",
       "      <th>LoanAmount</th>\n",
       "      <th>Loan_Amount_Term</th>\n",
       "      <th>Credit_History</th>\n",
       "      <th>Property_Area</th>\n",
       "      <th>Loan_Status</th>\n",
       "    </tr>\n",
       "  </thead>\n",
       "  <tbody>\n",
       "  </tbody>\n",
       "</table>\n",
       "</div>"
      ],
      "text/plain": [
       "Empty DataFrame\n",
       "Columns: [Gender, Married, Dependents, Education, Self_Employed, ApplicantIncome, CoapplicantIncome, LoanAmount, Loan_Amount_Term, Credit_History, Property_Area, Loan_Status]\n",
       "Index: []"
      ]
     },
     "execution_count": 151,
     "metadata": {},
     "output_type": "execute_result"
    }
   ],
   "source": [
    "remove_outliers_IQR('Self_Employed')"
   ]
  },
  {
   "cell_type": "code",
   "execution_count": 152,
   "id": "33347b08",
   "metadata": {},
   "outputs": [
    {
     "name": "stdout",
     "output_type": "stream",
     "text": [
      "Upper limit 10048.75\n",
      "Lower limit -1425.25\n"
     ]
    },
    {
     "data": {
      "text/html": [
       "<div>\n",
       "<style scoped>\n",
       "    .dataframe tbody tr th:only-of-type {\n",
       "        vertical-align: middle;\n",
       "    }\n",
       "\n",
       "    .dataframe tbody tr th {\n",
       "        vertical-align: top;\n",
       "    }\n",
       "\n",
       "    .dataframe thead th {\n",
       "        text-align: right;\n",
       "    }\n",
       "</style>\n",
       "<table border=\"1\" class=\"dataframe\">\n",
       "  <thead>\n",
       "    <tr style=\"text-align: right;\">\n",
       "      <th></th>\n",
       "      <th>Gender</th>\n",
       "      <th>Married</th>\n",
       "      <th>Dependents</th>\n",
       "      <th>Education</th>\n",
       "      <th>Self_Employed</th>\n",
       "      <th>ApplicantIncome</th>\n",
       "      <th>CoapplicantIncome</th>\n",
       "      <th>LoanAmount</th>\n",
       "      <th>Loan_Amount_Term</th>\n",
       "      <th>Credit_History</th>\n",
       "      <th>Property_Area</th>\n",
       "      <th>Loan_Status</th>\n",
       "    </tr>\n",
       "  </thead>\n",
       "  <tbody>\n",
       "  </tbody>\n",
       "</table>\n",
       "</div>"
      ],
      "text/plain": [
       "Empty DataFrame\n",
       "Columns: [Gender, Married, Dependents, Education, Self_Employed, ApplicantIncome, CoapplicantIncome, LoanAmount, Loan_Amount_Term, Credit_History, Property_Area, Loan_Status]\n",
       "Index: []"
      ]
     },
     "execution_count": 152,
     "metadata": {},
     "output_type": "execute_result"
    }
   ],
   "source": [
    "remove_outliers_IQR('ApplicantIncome')"
   ]
  },
  {
   "cell_type": "code",
   "execution_count": 153,
   "id": "bfc61c0d",
   "metadata": {},
   "outputs": [
    {
     "name": "stdout",
     "output_type": "stream",
     "text": [
      "Upper limit 5810.0\n",
      "Lower limit -3486.0\n"
     ]
    },
    {
     "data": {
      "text/html": [
       "<div>\n",
       "<style scoped>\n",
       "    .dataframe tbody tr th:only-of-type {\n",
       "        vertical-align: middle;\n",
       "    }\n",
       "\n",
       "    .dataframe tbody tr th {\n",
       "        vertical-align: top;\n",
       "    }\n",
       "\n",
       "    .dataframe thead th {\n",
       "        text-align: right;\n",
       "    }\n",
       "</style>\n",
       "<table border=\"1\" class=\"dataframe\">\n",
       "  <thead>\n",
       "    <tr style=\"text-align: right;\">\n",
       "      <th></th>\n",
       "      <th>Gender</th>\n",
       "      <th>Married</th>\n",
       "      <th>Dependents</th>\n",
       "      <th>Education</th>\n",
       "      <th>Self_Employed</th>\n",
       "      <th>ApplicantIncome</th>\n",
       "      <th>CoapplicantIncome</th>\n",
       "      <th>LoanAmount</th>\n",
       "      <th>Loan_Amount_Term</th>\n",
       "      <th>Credit_History</th>\n",
       "      <th>Property_Area</th>\n",
       "      <th>Loan_Status</th>\n",
       "    </tr>\n",
       "  </thead>\n",
       "  <tbody>\n",
       "  </tbody>\n",
       "</table>\n",
       "</div>"
      ],
      "text/plain": [
       "Empty DataFrame\n",
       "Columns: [Gender, Married, Dependents, Education, Self_Employed, ApplicantIncome, CoapplicantIncome, LoanAmount, Loan_Amount_Term, Credit_History, Property_Area, Loan_Status]\n",
       "Index: []"
      ]
     },
     "execution_count": 153,
     "metadata": {},
     "output_type": "execute_result"
    }
   ],
   "source": [
    "remove_outliers_IQR('CoapplicantIncome')"
   ]
  },
  {
   "cell_type": "code",
   "execution_count": 154,
   "id": "395a8c41",
   "metadata": {},
   "outputs": [
    {
     "name": "stdout",
     "output_type": "stream",
     "text": [
      "Upper limit 258.75\n",
      "Lower limit 4.75\n"
     ]
    },
    {
     "data": {
      "text/html": [
       "<div>\n",
       "<style scoped>\n",
       "    .dataframe tbody tr th:only-of-type {\n",
       "        vertical-align: middle;\n",
       "    }\n",
       "\n",
       "    .dataframe tbody tr th {\n",
       "        vertical-align: top;\n",
       "    }\n",
       "\n",
       "    .dataframe thead th {\n",
       "        text-align: right;\n",
       "    }\n",
       "</style>\n",
       "<table border=\"1\" class=\"dataframe\">\n",
       "  <thead>\n",
       "    <tr style=\"text-align: right;\">\n",
       "      <th></th>\n",
       "      <th>Gender</th>\n",
       "      <th>Married</th>\n",
       "      <th>Dependents</th>\n",
       "      <th>Education</th>\n",
       "      <th>Self_Employed</th>\n",
       "      <th>ApplicantIncome</th>\n",
       "      <th>CoapplicantIncome</th>\n",
       "      <th>LoanAmount</th>\n",
       "      <th>Loan_Amount_Term</th>\n",
       "      <th>Credit_History</th>\n",
       "      <th>Property_Area</th>\n",
       "      <th>Loan_Status</th>\n",
       "    </tr>\n",
       "  </thead>\n",
       "  <tbody>\n",
       "  </tbody>\n",
       "</table>\n",
       "</div>"
      ],
      "text/plain": [
       "Empty DataFrame\n",
       "Columns: [Gender, Married, Dependents, Education, Self_Employed, ApplicantIncome, CoapplicantIncome, LoanAmount, Loan_Amount_Term, Credit_History, Property_Area, Loan_Status]\n",
       "Index: []"
      ]
     },
     "execution_count": 154,
     "metadata": {},
     "output_type": "execute_result"
    }
   ],
   "source": [
    "remove_outliers_IQR('LoanAmount')"
   ]
  },
  {
   "cell_type": "code",
   "execution_count": 155,
   "id": "0b5000c5",
   "metadata": {},
   "outputs": [
    {
     "name": "stdout",
     "output_type": "stream",
     "text": [
      "Upper limit 360.0\n",
      "Lower limit 360.0\n"
     ]
    },
    {
     "data": {
      "text/html": [
       "<div>\n",
       "<style scoped>\n",
       "    .dataframe tbody tr th:only-of-type {\n",
       "        vertical-align: middle;\n",
       "    }\n",
       "\n",
       "    .dataframe tbody tr th {\n",
       "        vertical-align: top;\n",
       "    }\n",
       "\n",
       "    .dataframe thead th {\n",
       "        text-align: right;\n",
       "    }\n",
       "</style>\n",
       "<table border=\"1\" class=\"dataframe\">\n",
       "  <thead>\n",
       "    <tr style=\"text-align: right;\">\n",
       "      <th></th>\n",
       "      <th>Gender</th>\n",
       "      <th>Married</th>\n",
       "      <th>Dependents</th>\n",
       "      <th>Education</th>\n",
       "      <th>Self_Employed</th>\n",
       "      <th>ApplicantIncome</th>\n",
       "      <th>CoapplicantIncome</th>\n",
       "      <th>LoanAmount</th>\n",
       "      <th>Loan_Amount_Term</th>\n",
       "      <th>Credit_History</th>\n",
       "      <th>Property_Area</th>\n",
       "      <th>Loan_Status</th>\n",
       "    </tr>\n",
       "  </thead>\n",
       "  <tbody>\n",
       "  </tbody>\n",
       "</table>\n",
       "</div>"
      ],
      "text/plain": [
       "Empty DataFrame\n",
       "Columns: [Gender, Married, Dependents, Education, Self_Employed, ApplicantIncome, CoapplicantIncome, LoanAmount, Loan_Amount_Term, Credit_History, Property_Area, Loan_Status]\n",
       "Index: []"
      ]
     },
     "execution_count": 155,
     "metadata": {},
     "output_type": "execute_result"
    }
   ],
   "source": [
    "remove_outliers_IQR('Loan_Amount_Term')"
   ]
  },
  {
   "cell_type": "code",
   "execution_count": 156,
   "id": "ff75c001",
   "metadata": {},
   "outputs": [
    {
     "name": "stdout",
     "output_type": "stream",
     "text": [
      "Upper limit 1.0\n",
      "Lower limit 1.0\n"
     ]
    },
    {
     "data": {
      "text/html": [
       "<div>\n",
       "<style scoped>\n",
       "    .dataframe tbody tr th:only-of-type {\n",
       "        vertical-align: middle;\n",
       "    }\n",
       "\n",
       "    .dataframe tbody tr th {\n",
       "        vertical-align: top;\n",
       "    }\n",
       "\n",
       "    .dataframe thead th {\n",
       "        text-align: right;\n",
       "    }\n",
       "</style>\n",
       "<table border=\"1\" class=\"dataframe\">\n",
       "  <thead>\n",
       "    <tr style=\"text-align: right;\">\n",
       "      <th></th>\n",
       "      <th>Gender</th>\n",
       "      <th>Married</th>\n",
       "      <th>Dependents</th>\n",
       "      <th>Education</th>\n",
       "      <th>Self_Employed</th>\n",
       "      <th>ApplicantIncome</th>\n",
       "      <th>CoapplicantIncome</th>\n",
       "      <th>LoanAmount</th>\n",
       "      <th>Loan_Amount_Term</th>\n",
       "      <th>Credit_History</th>\n",
       "      <th>Property_Area</th>\n",
       "      <th>Loan_Status</th>\n",
       "    </tr>\n",
       "  </thead>\n",
       "  <tbody>\n",
       "  </tbody>\n",
       "</table>\n",
       "</div>"
      ],
      "text/plain": [
       "Empty DataFrame\n",
       "Columns: [Gender, Married, Dependents, Education, Self_Employed, ApplicantIncome, CoapplicantIncome, LoanAmount, Loan_Amount_Term, Credit_History, Property_Area, Loan_Status]\n",
       "Index: []"
      ]
     },
     "execution_count": 156,
     "metadata": {},
     "output_type": "execute_result"
    }
   ],
   "source": [
    "remove_outliers_IQR('Credit_History')"
   ]
  },
  {
   "cell_type": "code",
   "execution_count": 158,
   "id": "4d350a26",
   "metadata": {},
   "outputs": [
    {
     "data": {
      "image/png": "[encoded data removed]",
      "text/plain": [
       "<Figure size 1800x1100 with 11 Axes>"
      ]
     },
     "metadata": {},
     "output_type": "display_data"
    }
   ],
   "source": [
    "feautures=['Gender','Married','Dependents','Education','Self_Employed','ApplicantIncome','CoapplicantIncome','LoanAmount','Loan_Amount_Term','Credit_History','Property_Area']\n",
    "plt.figure(figsize=(18,11))\n",
    "for i,j in zip(range(1,18),feautures):\n",
    "    plt.subplot(5,4,i)\n",
    "    sns.boxplot(data=df1,x=j)\n",
    "    plt.tight_layout()\n",
    "    sns.set_theme()\n",
    "    plt.title('Boxplot of {}'.format(j))"
   ]
  },
  {
   "cell_type": "code",
   "execution_count": 159,
   "id": "ee22e425",
   "metadata": {},
   "outputs": [],
   "source": [
    "X=df1.iloc[:,:-1]"
   ]
  },
  {
   "cell_type": "code",
   "execution_count": 160,
   "id": "f4e4bffb",
   "metadata": {},
   "outputs": [
    {
     "data": {
      "text/html": [
       "<div>\n",
       "<style scoped>\n",
       "    .dataframe tbody tr th:only-of-type {\n",
       "        vertical-align: middle;\n",
       "    }\n",
       "\n",
       "    .dataframe tbody tr th {\n",
       "        vertical-align: top;\n",
       "    }\n",
       "\n",
       "    .dataframe thead th {\n",
       "        text-align: right;\n",
       "    }\n",
       "</style>\n",
       "<table border=\"1\" class=\"dataframe\">\n",
       "  <thead>\n",
       "    <tr style=\"text-align: right;\">\n",
       "      <th></th>\n",
       "      <th>Gender</th>\n",
       "      <th>Married</th>\n",
       "      <th>Dependents</th>\n",
       "      <th>Education</th>\n",
       "      <th>Self_Employed</th>\n",
       "      <th>ApplicantIncome</th>\n",
       "      <th>CoapplicantIncome</th>\n",
       "      <th>LoanAmount</th>\n",
       "      <th>Loan_Amount_Term</th>\n",
       "      <th>Credit_History</th>\n",
       "      <th>Property_Area</th>\n",
       "    </tr>\n",
       "  </thead>\n",
       "  <tbody>\n",
       "    <tr>\n",
       "      <th>0</th>\n",
       "      <td>1.0</td>\n",
       "      <td>0</td>\n",
       "      <td>0</td>\n",
       "      <td>0.0</td>\n",
       "      <td>0.0</td>\n",
       "      <td>5849.0</td>\n",
       "      <td>0.0</td>\n",
       "      <td>120.0</td>\n",
       "      <td>360.0</td>\n",
       "      <td>1.0</td>\n",
       "      <td>2</td>\n",
       "    </tr>\n",
       "    <tr>\n",
       "      <th>1</th>\n",
       "      <td>1.0</td>\n",
       "      <td>1</td>\n",
       "      <td>1</td>\n",
       "      <td>0.0</td>\n",
       "      <td>0.0</td>\n",
       "      <td>4583.0</td>\n",
       "      <td>1508.0</td>\n",
       "      <td>128.0</td>\n",
       "      <td>360.0</td>\n",
       "      <td>1.0</td>\n",
       "      <td>0</td>\n",
       "    </tr>\n",
       "    <tr>\n",
       "      <th>2</th>\n",
       "      <td>1.0</td>\n",
       "      <td>1</td>\n",
       "      <td>0</td>\n",
       "      <td>0.0</td>\n",
       "      <td>0.0</td>\n",
       "      <td>3000.0</td>\n",
       "      <td>0.0</td>\n",
       "      <td>66.0</td>\n",
       "      <td>360.0</td>\n",
       "      <td>1.0</td>\n",
       "      <td>2</td>\n",
       "    </tr>\n",
       "    <tr>\n",
       "      <th>3</th>\n",
       "      <td>1.0</td>\n",
       "      <td>1</td>\n",
       "      <td>0</td>\n",
       "      <td>0.0</td>\n",
       "      <td>0.0</td>\n",
       "      <td>2583.0</td>\n",
       "      <td>2358.0</td>\n",
       "      <td>120.0</td>\n",
       "      <td>360.0</td>\n",
       "      <td>1.0</td>\n",
       "      <td>2</td>\n",
       "    </tr>\n",
       "    <tr>\n",
       "      <th>4</th>\n",
       "      <td>1.0</td>\n",
       "      <td>0</td>\n",
       "      <td>0</td>\n",
       "      <td>0.0</td>\n",
       "      <td>0.0</td>\n",
       "      <td>6000.0</td>\n",
       "      <td>0.0</td>\n",
       "      <td>141.0</td>\n",
       "      <td>360.0</td>\n",
       "      <td>1.0</td>\n",
       "      <td>2</td>\n",
       "    </tr>\n",
       "    <tr>\n",
       "      <th>...</th>\n",
       "      <td>...</td>\n",
       "      <td>...</td>\n",
       "      <td>...</td>\n",
       "      <td>...</td>\n",
       "      <td>...</td>\n",
       "      <td>...</td>\n",
       "      <td>...</td>\n",
       "      <td>...</td>\n",
       "      <td>...</td>\n",
       "      <td>...</td>\n",
       "      <td>...</td>\n",
       "    </tr>\n",
       "    <tr>\n",
       "      <th>593</th>\n",
       "      <td>1.0</td>\n",
       "      <td>0</td>\n",
       "      <td>0</td>\n",
       "      <td>0.0</td>\n",
       "      <td>0.0</td>\n",
       "      <td>2900.0</td>\n",
       "      <td>0.0</td>\n",
       "      <td>71.0</td>\n",
       "      <td>360.0</td>\n",
       "      <td>1.0</td>\n",
       "      <td>0</td>\n",
       "    </tr>\n",
       "    <tr>\n",
       "      <th>594</th>\n",
       "      <td>1.0</td>\n",
       "      <td>1</td>\n",
       "      <td>3</td>\n",
       "      <td>0.0</td>\n",
       "      <td>0.0</td>\n",
       "      <td>4106.0</td>\n",
       "      <td>0.0</td>\n",
       "      <td>40.0</td>\n",
       "      <td>360.0</td>\n",
       "      <td>1.0</td>\n",
       "      <td>0</td>\n",
       "    </tr>\n",
       "    <tr>\n",
       "      <th>595</th>\n",
       "      <td>1.0</td>\n",
       "      <td>1</td>\n",
       "      <td>1</td>\n",
       "      <td>0.0</td>\n",
       "      <td>0.0</td>\n",
       "      <td>8072.0</td>\n",
       "      <td>240.0</td>\n",
       "      <td>253.0</td>\n",
       "      <td>360.0</td>\n",
       "      <td>1.0</td>\n",
       "      <td>2</td>\n",
       "    </tr>\n",
       "    <tr>\n",
       "      <th>596</th>\n",
       "      <td>1.0</td>\n",
       "      <td>1</td>\n",
       "      <td>2</td>\n",
       "      <td>0.0</td>\n",
       "      <td>0.0</td>\n",
       "      <td>7583.0</td>\n",
       "      <td>0.0</td>\n",
       "      <td>187.0</td>\n",
       "      <td>360.0</td>\n",
       "      <td>1.0</td>\n",
       "      <td>2</td>\n",
       "    </tr>\n",
       "    <tr>\n",
       "      <th>597</th>\n",
       "      <td>1.0</td>\n",
       "      <td>0</td>\n",
       "      <td>0</td>\n",
       "      <td>0.0</td>\n",
       "      <td>0.0</td>\n",
       "      <td>4583.0</td>\n",
       "      <td>0.0</td>\n",
       "      <td>133.0</td>\n",
       "      <td>360.0</td>\n",
       "      <td>1.0</td>\n",
       "      <td>1</td>\n",
       "    </tr>\n",
       "  </tbody>\n",
       "</table>\n",
       "<p>598 rows × 11 columns</p>\n",
       "</div>"
      ],
      "text/plain": [
       "     Gender  Married  Dependents  Education  Self_Employed  ApplicantIncome  \\\n",
       "0       1.0        0           0        0.0            0.0           5849.0   \n",
       "1       1.0        1           1        0.0            0.0           4583.0   \n",
       "2       1.0        1           0        0.0            0.0           3000.0   \n",
       "3       1.0        1           0        0.0            0.0           2583.0   \n",
       "4       1.0        0           0        0.0            0.0           6000.0   \n",
       "..      ...      ...         ...        ...            ...              ...   \n",
       "593     1.0        0           0        0.0            0.0           2900.0   \n",
       "594     1.0        1           3        0.0            0.0           4106.0   \n",
       "595     1.0        1           1        0.0            0.0           8072.0   \n",
       "596     1.0        1           2        0.0            0.0           7583.0   \n",
       "597     1.0        0           0        0.0            0.0           4583.0   \n",
       "\n",
       "     CoapplicantIncome  LoanAmount  Loan_Amount_Term  Credit_History  \\\n",
       "0                  0.0       120.0             360.0             1.0   \n",
       "1               1508.0       128.0             360.0             1.0   \n",
       "2                  0.0        66.0             360.0             1.0   \n",
       "3               2358.0       120.0             360.0             1.0   \n",
       "4                  0.0       141.0             360.0             1.0   \n",
       "..                 ...         ...               ...             ...   \n",
       "593                0.0        71.0             360.0             1.0   \n",
       "594                0.0        40.0             360.0             1.0   \n",
       "595              240.0       253.0             360.0             1.0   \n",
       "596                0.0       187.0             360.0             1.0   \n",
       "597                0.0       133.0             360.0             1.0   \n",
       "\n",
       "     Property_Area  \n",
       "0                2  \n",
       "1                0  \n",
       "2                2  \n",
       "3                2  \n",
       "4                2  \n",
       "..             ...  \n",
       "593              0  \n",
       "594              0  \n",
       "595              2  \n",
       "596              2  \n",
       "597              1  \n",
       "\n",
       "[598 rows x 11 columns]"
      ]
     },
     "execution_count": 160,
     "metadata": {},
     "output_type": "execute_result"
    }
   ],
   "source": [
    "X"
   ]
  },
  {
   "cell_type": "code",
   "execution_count": 161,
   "id": "61586a8e",
   "metadata": {},
   "outputs": [],
   "source": [
    "Y=df1.iloc[:,-1]"
   ]
  },
  {
   "cell_type": "code",
   "execution_count": 162,
   "id": "4d3ab8db",
   "metadata": {},
   "outputs": [
    {
     "data": {
      "text/plain": [
       "0      1\n",
       "1      0\n",
       "2      1\n",
       "3      1\n",
       "4      1\n",
       "      ..\n",
       "593    1\n",
       "594    1\n",
       "595    1\n",
       "596    1\n",
       "597    0\n",
       "Name: Loan_Status, Length: 598, dtype: int32"
      ]
     },
     "execution_count": 162,
     "metadata": {},
     "output_type": "execute_result"
    }
   ],
   "source": [
    "Y"
   ]
  },
  {
   "cell_type": "code",
   "execution_count": 163,
   "id": "fe826d3c",
   "metadata": {},
   "outputs": [],
   "source": [
    "mms=MinMaxScaler()"
   ]
  },
  {
   "cell_type": "code",
   "execution_count": 164,
   "id": "aa9e64c6",
   "metadata": {},
   "outputs": [
    {
     "data": {
      "text/plain": [
       "array([[0.  , 0.  , 0.  , ..., 0.  , 0.  , 1.  ],\n",
       "       [0.  , 1.  , 0.25, ..., 0.  , 0.  , 0.  ],\n",
       "       [0.  , 1.  , 0.  , ..., 0.  , 0.  , 1.  ],\n",
       "       ...,\n",
       "       [0.  , 1.  , 0.25, ..., 0.  , 0.  , 1.  ],\n",
       "       [0.  , 1.  , 0.5 , ..., 0.  , 0.  , 1.  ],\n",
       "       [0.  , 0.  , 0.  , ..., 0.  , 0.  , 0.5 ]])"
      ]
     },
     "execution_count": 164,
     "metadata": {},
     "output_type": "execute_result"
    }
   ],
   "source": [
    "X_sc=mms.fit_transform(X)\n",
    "X_sc"
   ]
  },
  {
   "cell_type": "code",
   "execution_count": 166,
   "id": "7b8d2453",
   "metadata": {},
   "outputs": [],
   "source": [
    "X_trainor,X_testor,y_trainor,y_testor=train_test_split(X,Y,test_size=0.2,random_state=45)"
   ]
  },
  {
   "cell_type": "code",
   "execution_count": 167,
   "id": "4f444066",
   "metadata": {},
   "outputs": [],
   "source": [
    "knn=KNeighborsClassifier(n_neighbors=5)\n",
    "svm=SVC()\n",
    "nb=GaussianNB()\n",
    "dc=DecisionTreeClassifier(criterion='entropy')\n",
    "ad=AdaBoostClassifier()\n",
    "gr=GradientBoostingClassifier()\n",
    "xg=XGBClassifier()\n",
    "score3=[]\n",
    "models=[knn,svm,nb,dc,ad,gr,xg]"
   ]
  },
  {
   "cell_type": "code",
   "execution_count": 168,
   "id": "be4c8e1c",
   "metadata": {},
   "outputs": [
    {
     "name": "stdout",
     "output_type": "stream",
     "text": [
      "------------------------- KNeighborsClassifier() -------------------------\n",
      "              precision    recall  f1-score   support\n",
      "\n",
      "           0       0.77      0.42      0.54        48\n",
      "           1       0.70      0.92      0.80        72\n",
      "\n",
      "    accuracy                           0.72       120\n",
      "   macro avg       0.74      0.67      0.67       120\n",
      "weighted avg       0.73      0.72      0.69       120\n",
      "\n",
      "Score model = 61.66666666666667\n",
      "------------------------- SVC() -------------------------\n",
      "              precision    recall  f1-score   support\n",
      "\n",
      "           0       0.77      0.42      0.54        48\n",
      "           1       0.70      0.92      0.80        72\n",
      "\n",
      "    accuracy                           0.72       120\n",
      "   macro avg       0.74      0.67      0.67       120\n",
      "weighted avg       0.73      0.72      0.69       120\n",
      "\n",
      "Score model = 59.166666666666664\n",
      "------------------------- GaussianNB() -------------------------\n",
      "              precision    recall  f1-score   support\n",
      "\n",
      "           0       0.77      0.42      0.54        48\n",
      "           1       0.70      0.92      0.80        72\n",
      "\n",
      "    accuracy                           0.72       120\n",
      "   macro avg       0.74      0.67      0.67       120\n",
      "weighted avg       0.73      0.72      0.69       120\n",
      "\n",
      "Score model = 59.166666666666664\n",
      "------------------------- DecisionTreeClassifier(criterion='entropy') -------------------------\n",
      "              precision    recall  f1-score   support\n",
      "\n",
      "           0       0.77      0.42      0.54        48\n",
      "           1       0.70      0.92      0.80        72\n",
      "\n",
      "    accuracy                           0.72       120\n",
      "   macro avg       0.74      0.67      0.67       120\n",
      "weighted avg       0.73      0.72      0.69       120\n",
      "\n",
      "Score model = 60.0\n",
      "------------------------- AdaBoostClassifier() -------------------------\n",
      "              precision    recall  f1-score   support\n",
      "\n",
      "           0       0.77      0.42      0.54        48\n",
      "           1       0.70      0.92      0.80        72\n",
      "\n",
      "    accuracy                           0.72       120\n",
      "   macro avg       0.74      0.67      0.67       120\n",
      "weighted avg       0.73      0.72      0.69       120\n",
      "\n",
      "Score model = 57.49999999999999\n",
      "------------------------- GradientBoostingClassifier() -------------------------\n",
      "              precision    recall  f1-score   support\n",
      "\n",
      "           0       0.77      0.42      0.54        48\n",
      "           1       0.70      0.92      0.80        72\n",
      "\n",
      "    accuracy                           0.72       120\n",
      "   macro avg       0.74      0.67      0.67       120\n",
      "weighted avg       0.73      0.72      0.69       120\n",
      "\n",
      "Score model = 64.16666666666667\n",
      "------------------------- XGBClassifier(base_score=None, booster=None, callbacks=None,\n",
      "              colsample_bylevel=None, colsample_bynode=None,\n",
      "              colsample_bytree=None, device=None, early_stopping_rounds=None,\n",
      "              enable_categorical=False, eval_metric=None, feature_types=None,\n",
      "              gamma=None, grow_policy=None, importance_type=None,\n",
      "              interaction_constraints=None, learning_rate=None, max_bin=None,\n",
      "              max_cat_threshold=None, max_cat_to_onehot=None,\n",
      "              max_delta_step=None, max_depth=None, max_leaves=None,\n",
      "              min_child_weight=None, missing=nan, monotone_constraints=None,\n",
      "              multi_strategy=None, n_estimators=None, n_jobs=None,\n",
      "              num_parallel_tree=None, random_state=None, ...) -------------------------\n",
      "              precision    recall  f1-score   support\n",
      "\n",
      "           0       0.77      0.42      0.54        48\n",
      "           1       0.70      0.92      0.80        72\n",
      "\n",
      "    accuracy                           0.72       120\n",
      "   macro avg       0.74      0.67      0.67       120\n",
      "weighted avg       0.73      0.72      0.69       120\n",
      "\n",
      "Score model = 60.0\n"
     ]
    }
   ],
   "source": [
    "for model in models:\n",
    "    print('-'*25,model,'-'*25)\n",
    "    model.fit(X_trainpca,y_train)\n",
    "    y_predpca=model.predict(X_testpca)\n",
    "    print(classification_report(y_test,y_pred))\n",
    "    model_score=accuracy_score(y_test,y_predpca)*100\n",
    "    print(\"Score model = {}\".format(model_score))\n",
    "    score3.append(model_score)"
   ]
  },
  {
   "cell_type": "markdown",
   "id": "a98b9818",
   "metadata": {},
   "source": [
    "### Combaring Accuracy"
   ]
  },
  {
   "cell_type": "code",
   "execution_count": 169,
   "id": "27fb0e42",
   "metadata": {},
   "outputs": [
    {
     "data": {
      "text/html": [
       "<style type=\"text/css\">\n",
       "#T_f289f_row5_col1 {\n",
       "  background-color: lightgreen;\n",
       "}\n",
       "</style>\n",
       "<table id=\"T_f289f\">\n",
       "  <thead>\n",
       "    <tr>\n",
       "      <th class=\"blank level0\" >&nbsp;</th>\n",
       "      <th id=\"T_f289f_level0_col0\" class=\"col_heading level0 col0\" >Algorithm</th>\n",
       "      <th id=\"T_f289f_level0_col1\" class=\"col_heading level0 col1\" >Accuracy</th>\n",
       "    </tr>\n",
       "  </thead>\n",
       "  <tbody>\n",
       "    <tr>\n",
       "      <th id=\"T_f289f_level0_row0\" class=\"row_heading level0 row0\" >1</th>\n",
       "      <td id=\"T_f289f_row0_col0\" class=\"data row0 col0\" > KNeighborsClassifier</td>\n",
       "      <td id=\"T_f289f_row0_col1\" class=\"data row0 col1\" >61.666667</td>\n",
       "    </tr>\n",
       "    <tr>\n",
       "      <th id=\"T_f289f_level0_row1\" class=\"row_heading level0 row1\" >2</th>\n",
       "      <td id=\"T_f289f_row1_col0\" class=\"data row1 col0\" >svc</td>\n",
       "      <td id=\"T_f289f_row1_col1\" class=\"data row1 col1\" >59.166667</td>\n",
       "    </tr>\n",
       "    <tr>\n",
       "      <th id=\"T_f289f_level0_row2\" class=\"row_heading level0 row2\" >3</th>\n",
       "      <td id=\"T_f289f_row2_col0\" class=\"data row2 col0\" >Naive</td>\n",
       "      <td id=\"T_f289f_row2_col1\" class=\"data row2 col1\" >59.166667</td>\n",
       "    </tr>\n",
       "    <tr>\n",
       "      <th id=\"T_f289f_level0_row3\" class=\"row_heading level0 row3\" >4</th>\n",
       "      <td id=\"T_f289f_row3_col0\" class=\"data row3 col0\" >DecisionTree</td>\n",
       "      <td id=\"T_f289f_row3_col1\" class=\"data row3 col1\" >60.000000</td>\n",
       "    </tr>\n",
       "    <tr>\n",
       "      <th id=\"T_f289f_level0_row4\" class=\"row_heading level0 row4\" >5</th>\n",
       "      <td id=\"T_f289f_row4_col0\" class=\"data row4 col0\" >AdaBoostClassifier</td>\n",
       "      <td id=\"T_f289f_row4_col1\" class=\"data row4 col1\" >57.500000</td>\n",
       "    </tr>\n",
       "    <tr>\n",
       "      <th id=\"T_f289f_level0_row5\" class=\"row_heading level0 row5\" >6</th>\n",
       "      <td id=\"T_f289f_row5_col0\" class=\"data row5 col0\" >GradientBoosting</td>\n",
       "      <td id=\"T_f289f_row5_col1\" class=\"data row5 col1\" >64.166667</td>\n",
       "    </tr>\n",
       "    <tr>\n",
       "      <th id=\"T_f289f_level0_row6\" class=\"row_heading level0 row6\" >7</th>\n",
       "      <td id=\"T_f289f_row6_col0\" class=\"data row6 col0\" >XGBClassifier</td>\n",
       "      <td id=\"T_f289f_row6_col1\" class=\"data row6 col1\" >60.000000</td>\n",
       "    </tr>\n",
       "  </tbody>\n",
       "</table>\n"
      ],
      "text/plain": [
       "<pandas.io.formats.style.Styler at 0x21efd78c130>"
      ]
     },
     "execution_count": 169,
     "metadata": {},
     "output_type": "execute_result"
    }
   ],
   "source": [
    "Algorithm=[' KNeighborsClassifier','svc','Naive','DecisionTree','AdaBoostClassifier','GradientBoosting','XGBClassifier']\n",
    "Accuracy=score3\n",
    "Data1=pd.DataFrame({'Algorithm':Algorithm,'Accuracy':Accuracy},index=[1,2,3,4,5,6,7])\n",
    "Data1.style.highlight_max(subset='Accuracy',color='lightgreen')"
   ]
  },
  {
   "cell_type": "code",
   "execution_count": 177,
   "id": "2b20a02f",
   "metadata": {},
   "outputs": [
    {
     "data": {
      "text/html": [
       "<style type=\"text/css\">\n",
       "#T_f7d7e_row3_col2 {\n",
       "  background-color: lightgreen;\n",
       "}\n",
       "</style>\n",
       "<table id=\"T_f7d7e\">\n",
       "  <thead>\n",
       "    <tr>\n",
       "      <th class=\"blank level0\" >&nbsp;</th>\n",
       "      <th id=\"T_f7d7e_level0_col0\" class=\"col_heading level0 col0\" >Algorithm</th>\n",
       "      <th id=\"T_f7d7e_level0_col1\" class=\"col_heading level0 col1\" >Accuracy</th>\n",
       "      <th id=\"T_f7d7e_level0_col2\" class=\"col_heading level0 col2\" >Balancing</th>\n",
       "      <th id=\"T_f7d7e_level0_col3\" class=\"col_heading level0 col3\" >PCA</th>\n",
       "      <th id=\"T_f7d7e_level0_col4\" class=\"col_heading level0 col4\" >Outlier</th>\n",
       "    </tr>\n",
       "  </thead>\n",
       "  <tbody>\n",
       "    <tr>\n",
       "      <th id=\"T_f7d7e_level0_row0\" class=\"row_heading level0 row0\" >1</th>\n",
       "      <td id=\"T_f7d7e_row0_col0\" class=\"data row0 col0\" > KNeighborsClassifier</td>\n",
       "      <td id=\"T_f7d7e_row0_col1\" class=\"data row0 col1\" >73.333333</td>\n",
       "      <td id=\"T_f7d7e_row0_col2\" class=\"data row0 col2\" >94.444444</td>\n",
       "      <td id=\"T_f7d7e_row0_col3\" class=\"data row0 col3\" >61.666667</td>\n",
       "      <td id=\"T_f7d7e_row0_col4\" class=\"data row0 col4\" >61.666667</td>\n",
       "    </tr>\n",
       "    <tr>\n",
       "      <th id=\"T_f7d7e_level0_row1\" class=\"row_heading level0 row1\" >2</th>\n",
       "      <td id=\"T_f7d7e_row1_col0\" class=\"data row1 col0\" >svc</td>\n",
       "      <td id=\"T_f7d7e_row1_col1\" class=\"data row1 col1\" >74.166667</td>\n",
       "      <td id=\"T_f7d7e_row1_col2\" class=\"data row1 col2\" >87.777778</td>\n",
       "      <td id=\"T_f7d7e_row1_col3\" class=\"data row1 col3\" >59.166667</td>\n",
       "      <td id=\"T_f7d7e_row1_col4\" class=\"data row1 col4\" >59.166667</td>\n",
       "    </tr>\n",
       "    <tr>\n",
       "      <th id=\"T_f7d7e_level0_row2\" class=\"row_heading level0 row2\" >3</th>\n",
       "      <td id=\"T_f7d7e_row2_col0\" class=\"data row2 col0\" >Naive</td>\n",
       "      <td id=\"T_f7d7e_row2_col1\" class=\"data row2 col1\" >75.000000</td>\n",
       "      <td id=\"T_f7d7e_row2_col2\" class=\"data row2 col2\" >87.777778</td>\n",
       "      <td id=\"T_f7d7e_row2_col3\" class=\"data row2 col3\" >59.166667</td>\n",
       "      <td id=\"T_f7d7e_row2_col4\" class=\"data row2 col4\" >59.166667</td>\n",
       "    </tr>\n",
       "    <tr>\n",
       "      <th id=\"T_f7d7e_level0_row3\" class=\"row_heading level0 row3\" >4</th>\n",
       "      <td id=\"T_f7d7e_row3_col0\" class=\"data row3 col0\" >DecisionTree</td>\n",
       "      <td id=\"T_f7d7e_row3_col1\" class=\"data row3 col1\" >61.666667</td>\n",
       "      <td id=\"T_f7d7e_row3_col2\" class=\"data row3 col2\" >95.555556</td>\n",
       "      <td id=\"T_f7d7e_row3_col3\" class=\"data row3 col3\" >56.666667</td>\n",
       "      <td id=\"T_f7d7e_row3_col4\" class=\"data row3 col4\" >60.000000</td>\n",
       "    </tr>\n",
       "    <tr>\n",
       "      <th id=\"T_f7d7e_level0_row4\" class=\"row_heading level0 row4\" >5</th>\n",
       "      <td id=\"T_f7d7e_row4_col0\" class=\"data row4 col0\" >AdaBoostClassifier</td>\n",
       "      <td id=\"T_f7d7e_row4_col1\" class=\"data row4 col1\" >75.000000</td>\n",
       "      <td id=\"T_f7d7e_row4_col2\" class=\"data row4 col2\" >90.000000</td>\n",
       "      <td id=\"T_f7d7e_row4_col3\" class=\"data row4 col3\" >57.500000</td>\n",
       "      <td id=\"T_f7d7e_row4_col4\" class=\"data row4 col4\" >57.500000</td>\n",
       "    </tr>\n",
       "    <tr>\n",
       "      <th id=\"T_f7d7e_level0_row5\" class=\"row_heading level0 row5\" >6</th>\n",
       "      <td id=\"T_f7d7e_row5_col0\" class=\"data row5 col0\" >GradientBoosting</td>\n",
       "      <td id=\"T_f7d7e_row5_col1\" class=\"data row5 col1\" >68.333333</td>\n",
       "      <td id=\"T_f7d7e_row5_col2\" class=\"data row5 col2\" >92.222222</td>\n",
       "      <td id=\"T_f7d7e_row5_col3\" class=\"data row5 col3\" >64.166667</td>\n",
       "      <td id=\"T_f7d7e_row5_col4\" class=\"data row5 col4\" >64.166667</td>\n",
       "    </tr>\n",
       "    <tr>\n",
       "      <th id=\"T_f7d7e_level0_row6\" class=\"row_heading level0 row6\" >7</th>\n",
       "      <td id=\"T_f7d7e_row6_col0\" class=\"data row6 col0\" >XGBClassifier</td>\n",
       "      <td id=\"T_f7d7e_row6_col1\" class=\"data row6 col1\" >71.666667</td>\n",
       "      <td id=\"T_f7d7e_row6_col2\" class=\"data row6 col2\" >94.444444</td>\n",
       "      <td id=\"T_f7d7e_row6_col3\" class=\"data row6 col3\" >60.000000</td>\n",
       "      <td id=\"T_f7d7e_row6_col4\" class=\"data row6 col4\" >60.000000</td>\n",
       "    </tr>\n",
       "  </tbody>\n",
       "</table>\n"
      ],
      "text/plain": [
       "<pandas.io.formats.style.Styler at 0x21efd3e89a0>"
      ]
     },
     "execution_count": 177,
     "metadata": {},
     "output_type": "execute_result"
    }
   ],
   "source": [
    "Algorithm=[' KNeighborsClassifier','svc','Naive','DecisionTree','AdaBoostClassifier','GradientBoosting','XGBClassifier']\n",
    "Accuracy=score\n",
    "Accuracy1=score1\n",
    "Accuracy2=score2\n",
    "Accuracy3=score3\n",
    "Data1=pd.DataFrame({'Algorithm':Algorithm,'Accuracy':Accuracy,'Balancing':Accuracy1,'PCA':Accuracy2,'Outlier':Accuracy3},index=[1,2,3,4,5,6,7])\n",
    "Data1.style.highlight_max(subset='Balancing',color='lightgreen')"
   ]
  },
  {
   "cell_type": "markdown",
   "id": "218906f2",
   "metadata": {},
   "source": [
    "### Save The Good Acuuracy Model"
   ]
  },
  {
   "cell_type": "code",
   "execution_count": 178,
   "id": "5bbd0cf6",
   "metadata": {},
   "outputs": [
    {
     "data": {
      "text/plain": [
       "['loan_status_predict']"
      ]
     },
     "execution_count": 178,
     "metadata": {},
     "output_type": "execute_result"
    }
   ],
   "source": [
    "import joblib\n",
    "joblib.dump(dc,'loan_status_predict')"
   ]
  },
  {
   "cell_type": "code",
   "execution_count": 179,
   "id": "4530b558",
   "metadata": {},
   "outputs": [],
   "source": [
    "model = joblib.load('loan_status_predict')"
   ]
  },
  {
   "cell_type": "markdown",
   "id": "db745995",
   "metadata": {},
   "source": [
    "### New Data For Prediction"
   ]
  },
  {
   "cell_type": "code",
   "execution_count": 182,
   "id": "98cae498",
   "metadata": {},
   "outputs": [],
   "source": [
    "new=pd.DataFrame({\n",
    "'Gender':0,\n",
    "'Married':1,\n",
    "'Dependents':2,\n",
    "'Education':0,\n",
    "'Self_Employed':1,\n",
    "'ApplicantIncome':2869,\n",
    "'CoapplicantIncome':0.0,\n",
    "'LoanAmount':35,\n",
    "'Loan_Amount_Term':140,\n",
    "},index=[0])"
   ]
  },
  {
   "cell_type": "code",
   "execution_count": 183,
   "id": "7ca0ae4e",
   "metadata": {},
   "outputs": [
    {
     "data": {
      "text/html": [
       "<div>\n",
       "<style scoped>\n",
       "    .dataframe tbody tr th:only-of-type {\n",
       "        vertical-align: middle;\n",
       "    }\n",
       "\n",
       "    .dataframe tbody tr th {\n",
       "        vertical-align: top;\n",
       "    }\n",
       "\n",
       "    .dataframe thead th {\n",
       "        text-align: right;\n",
       "    }\n",
       "</style>\n",
       "<table border=\"1\" class=\"dataframe\">\n",
       "  <thead>\n",
       "    <tr style=\"text-align: right;\">\n",
       "      <th></th>\n",
       "      <th>Gender</th>\n",
       "      <th>Married</th>\n",
       "      <th>Dependents</th>\n",
       "      <th>Education</th>\n",
       "      <th>Self_Employed</th>\n",
       "      <th>ApplicantIncome</th>\n",
       "      <th>CoapplicantIncome</th>\n",
       "      <th>LoanAmount</th>\n",
       "      <th>Loan_Amount_Term</th>\n",
       "    </tr>\n",
       "  </thead>\n",
       "  <tbody>\n",
       "    <tr>\n",
       "      <th>0</th>\n",
       "      <td>0</td>\n",
       "      <td>1</td>\n",
       "      <td>2</td>\n",
       "      <td>0</td>\n",
       "      <td>1</td>\n",
       "      <td>2869</td>\n",
       "      <td>0.0</td>\n",
       "      <td>35</td>\n",
       "      <td>140</td>\n",
       "    </tr>\n",
       "  </tbody>\n",
       "</table>\n",
       "</div>"
      ],
      "text/plain": [
       "   Gender  Married  Dependents  Education  Self_Employed  ApplicantIncome  \\\n",
       "0       0        1           2          0              1             2869   \n",
       "\n",
       "   CoapplicantIncome  LoanAmount  Loan_Amount_Term  \n",
       "0                0.0          35               140  "
      ]
     },
     "execution_count": 183,
     "metadata": {},
     "output_type": "execute_result"
    }
   ],
   "source": [
    "new"
   ]
  },
  {
   "cell_type": "code",
   "execution_count": 184,
   "id": "a81e3d9d",
   "metadata": {},
   "outputs": [
    {
     "name": "stderr",
     "output_type": "stream",
     "text": [
      "C:\\Users\\ismail\\anaconda3\\lib\\site-packages\\sklearn\\base.py:413: UserWarning: X has feature names, but DecisionTreeClassifier was fitted without feature names\n",
      "  warnings.warn(\n"
     ]
    }
   ],
   "source": [
    "result=model.predict(new)"
   ]
  },
  {
   "cell_type": "markdown",
   "id": "f2494bd9",
   "metadata": {},
   "source": [
    "### New Prediction"
   ]
  },
  {
   "cell_type": "code",
   "execution_count": 185,
   "id": "89dfdad9",
   "metadata": {},
   "outputs": [
    {
     "name": "stdout",
     "output_type": "stream",
     "text": [
      "Loan Not Approved\n"
     ]
    }
   ],
   "source": [
    "if result==1:\n",
    "    print('Loan Approved')\n",
    "else:\n",
    "    print('Loan Not Approved')"
   ]
  },
  {
   "cell_type": "code",
   "execution_count": null,
   "id": "515a8361",
   "metadata": {},
   "outputs": [],
   "source": []
  }
 ],
 "metadata": {
  "kernelspec": {
   "display_name": "Python 3 (ipykernel)",
   "language": "python",
   "name": "python3"
  },
  "language_info": {
   "codemirror_mode": {
    "name": "ipython",
    "version": 3
   },
   "file_extension": ".py",
   "mimetype": "text/x-python",
   "name": "python",
   "nbconvert_exporter": "python",
   "pygments_lexer": "ipython3",
   "version": "3.10.9"
  }
 },
 "nbformat": 4,
 "nbformat_minor": 5
}

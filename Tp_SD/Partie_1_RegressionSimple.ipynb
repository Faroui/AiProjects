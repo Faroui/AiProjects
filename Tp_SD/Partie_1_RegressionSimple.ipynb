{
 "cells": [
  {
   "cell_type": "markdown",
   "id": "92505b6c",
   "metadata": {},
   "source": [
    "# Partie1"
   ]
  },
  {
   "cell_type": "code",
   "execution_count": 158,
   "id": "ca3e09e3",
   "metadata": {},
   "outputs": [],
   "source": [
    "import numpy as np\n",
    "import pandas as pd\n",
    "import matplotlib.pyplot as plt\n",
    "from sklearn.model_selection import train_test_split"
   ]
  },
  {
   "cell_type": "markdown",
   "id": "19f3b9cb",
   "metadata": {},
   "source": [
    "### 1. Récupérer des données à partir du fichier advertising.csv et découvrir ses principales caractéristiques."
   ]
  },
  {
   "cell_type": "code",
   "execution_count": 159,
   "id": "d65f4b71",
   "metadata": {},
   "outputs": [],
   "source": [
    "df=pd.read_csv(\"advertising.csv\")"
   ]
  },
  {
   "cell_type": "code",
   "execution_count": 160,
   "id": "cc86f9a9",
   "metadata": {},
   "outputs": [
    {
     "name": "stdout",
     "output_type": "stream",
     "text": [
      "<class 'pandas.core.frame.DataFrame'>\n",
      "RangeIndex: 200 entries, 0 to 199\n",
      "Data columns (total 4 columns):\n",
      " #   Column     Non-Null Count  Dtype  \n",
      "---  ------     --------------  -----  \n",
      " 0   TV         200 non-null    float64\n",
      " 1   Radio      200 non-null    float64\n",
      " 2   Newspaper  200 non-null    float64\n",
      " 3   Sales      200 non-null    float64\n",
      "dtypes: float64(4)\n",
      "memory usage: 6.4 KB\n"
     ]
    }
   ],
   "source": [
    "df.info()"
   ]
  },
  {
   "cell_type": "code",
   "execution_count": 198,
   "id": "cbf733b3",
   "metadata": {},
   "outputs": [
    {
     "data": {
      "text/html": [
       "<div>\n",
       "<style scoped>\n",
       "    .dataframe tbody tr th:only-of-type {\n",
       "        vertical-align: middle;\n",
       "    }\n",
       "\n",
       "    .dataframe tbody tr th {\n",
       "        vertical-align: top;\n",
       "    }\n",
       "\n",
       "    .dataframe thead th {\n",
       "        text-align: right;\n",
       "    }\n",
       "</style>\n",
       "<table border=\"1\" class=\"dataframe\">\n",
       "  <thead>\n",
       "    <tr style=\"text-align: right;\">\n",
       "      <th></th>\n",
       "      <th>TV</th>\n",
       "      <th>Radio</th>\n",
       "      <th>Newspaper</th>\n",
       "      <th>Sales</th>\n",
       "    </tr>\n",
       "  </thead>\n",
       "  <tbody>\n",
       "    <tr>\n",
       "      <th>0</th>\n",
       "      <td>230.1</td>\n",
       "      <td>37.8</td>\n",
       "      <td>69.2</td>\n",
       "      <td>22.1</td>\n",
       "    </tr>\n",
       "    <tr>\n",
       "      <th>1</th>\n",
       "      <td>44.5</td>\n",
       "      <td>39.3</td>\n",
       "      <td>45.1</td>\n",
       "      <td>10.4</td>\n",
       "    </tr>\n",
       "    <tr>\n",
       "      <th>2</th>\n",
       "      <td>17.2</td>\n",
       "      <td>45.9</td>\n",
       "      <td>69.3</td>\n",
       "      <td>12.0</td>\n",
       "    </tr>\n",
       "    <tr>\n",
       "      <th>3</th>\n",
       "      <td>151.5</td>\n",
       "      <td>41.3</td>\n",
       "      <td>58.5</td>\n",
       "      <td>16.5</td>\n",
       "    </tr>\n",
       "    <tr>\n",
       "      <th>4</th>\n",
       "      <td>180.8</td>\n",
       "      <td>10.8</td>\n",
       "      <td>58.4</td>\n",
       "      <td>17.9</td>\n",
       "    </tr>\n",
       "  </tbody>\n",
       "</table>\n",
       "</div>"
      ],
      "text/plain": [
       "      TV  Radio  Newspaper  Sales\n",
       "0  230.1   37.8       69.2   22.1\n",
       "1   44.5   39.3       45.1   10.4\n",
       "2   17.2   45.9       69.3   12.0\n",
       "3  151.5   41.3       58.5   16.5\n",
       "4  180.8   10.8       58.4   17.9"
      ]
     },
     "execution_count": 198,
     "metadata": {},
     "output_type": "execute_result"
    }
   ],
   "source": [
    "df.head()"
   ]
  },
  {
   "cell_type": "markdown",
   "id": "d8e1656e",
   "metadata": {},
   "source": [
    "### 2. Initialiser X (predictors, variable ind´ependante) par la variable TV et y (cible, variable d´ependante)."
   ]
  },
  {
   "cell_type": "code",
   "execution_count": 199,
   "id": "dc05bc23",
   "metadata": {},
   "outputs": [],
   "source": [
    "# Initialize the predictors\n",
    "X = df['TV'].values\n",
    "y = df['Sales'].values"
   ]
  },
  {
   "cell_type": "code",
   "execution_count": 200,
   "id": "865ba5f3",
   "metadata": {
    "scrolled": true
   },
   "outputs": [
    {
     "data": {
      "text/plain": [
       "array([230.1,  44.5,  17.2, 151.5, 180.8,   8.7,  57.5, 120.2,   8.6,\n",
       "       199.8,  66.1, 214.7,  23.8,  97.5, 204.1, 195.4,  67.8, 281.4,\n",
       "        69.2, 147.3, 218.4, 237.4,  13.2, 228.3,  62.3, 262.9, 142.9,\n",
       "       240.1, 248.8,  70.6, 292.9, 112.9,  97.2, 265.6,  95.7, 290.7,\n",
       "       266.9,  74.7,  43.1, 228. , 202.5, 177. , 293.6, 206.9,  25.1,\n",
       "       175.1,  89.7, 239.9, 227.2,  66.9, 199.8, 100.4, 216.4, 182.6,\n",
       "       262.7, 198.9,   7.3, 136.2, 210.8, 210.7,  53.5, 261.3, 239.3,\n",
       "       102.7, 131.1,  69. ,  31.5, 139.3, 237.4, 216.8, 199.1, 109.8,\n",
       "        26.8, 129.4, 213.4,  16.9,  27.5, 120.5,   5.4, 116. ,  76.4,\n",
       "       239.8,  75.3,  68.4, 213.5, 193.2,  76.3, 110.7,  88.3, 109.8,\n",
       "       134.3,  28.6, 217.7, 250.9, 107.4, 163.3, 197.6, 184.9, 289.7,\n",
       "       135.2, 222.4, 296.4, 280.2, 187.9, 238.2, 137.9,  25. ,  90.4,\n",
       "        13.1, 255.4, 225.8, 241.7, 175.7, 209.6,  78.2,  75.1, 139.2,\n",
       "        76.4, 125.7,  19.4, 141.3,  18.8, 224. , 123.1, 229.5,  87.2,\n",
       "         7.8,  80.2, 220.3,  59.6,   0.7, 265.2,   8.4, 219.8,  36.9,\n",
       "        48.3,  25.6, 273.7,  43. , 184.9,  73.4, 193.7, 220.5, 104.6,\n",
       "        96.2, 140.3, 240.1, 243.2,  38. ,  44.7, 280.7, 121. , 197.6,\n",
       "       171.3, 187.8,   4.1,  93.9, 149.8,  11.7, 131.7, 172.5,  85.7,\n",
       "       188.4, 163.5, 117.2, 234.5,  17.9, 206.8, 215.4, 284.3,  50. ,\n",
       "       164.5,  19.6, 168.4, 222.4, 276.9, 248.4, 170.2, 276.7, 165.6,\n",
       "       156.6, 218.5,  56.2, 287.6, 253.8, 205. , 139.5, 191.1, 286. ,\n",
       "        18.7,  39.5,  75.5,  17.2, 166.8, 149.7,  38.2,  94.2, 177. ,\n",
       "       283.6, 232.1])"
      ]
     },
     "execution_count": 200,
     "metadata": {},
     "output_type": "execute_result"
    }
   ],
   "source": [
    "X"
   ]
  },
  {
   "cell_type": "code",
   "execution_count": 201,
   "id": "0c34f959",
   "metadata": {
    "scrolled": true
   },
   "outputs": [
    {
     "data": {
      "text/plain": [
       "array([22.1, 10.4, 12. , 16.5, 17.9,  7.2, 11.8, 13.2,  4.8, 15.6, 12.6,\n",
       "       17.4,  9.2, 13.7, 19. , 22.4, 12.5, 24.4, 11.3, 14.6, 18. , 17.5,\n",
       "        5.6, 20.5,  9.7, 17. , 15. , 20.9, 18.9, 10.5, 21.4, 11.9, 13.2,\n",
       "       17.4, 11.9, 17.8, 25.4, 14.7, 10.1, 21.5, 16.6, 17.1, 20.7, 17.9,\n",
       "        8.5, 16.1, 10.6, 23.2, 19.8,  9.7, 16.4, 10.7, 22.6, 21.2, 20.2,\n",
       "       23.7,  5.5, 13.2, 23.8, 18.4,  8.1, 24.2, 20.7, 14. , 16. , 11.3,\n",
       "       11. , 13.4, 18.9, 22.3, 18.3, 12.4,  8.8, 11. , 17. ,  8.7,  6.9,\n",
       "       14.2,  5.3, 11. , 11.8, 17.3, 11.3, 13.6, 21.7, 20.2, 12. , 16. ,\n",
       "       12.9, 16.7, 14. ,  7.3, 19.4, 22.2, 11.5, 16.9, 16.7, 20.5, 25.4,\n",
       "       17.2, 16.7, 23.8, 19.8, 19.7, 20.7, 15. ,  7.2, 12. ,  5.3, 19.8,\n",
       "       18.4, 21.8, 17.1, 20.9, 14.6, 12.6, 12.2,  9.4, 15.9,  6.6, 15.5,\n",
       "        7. , 16.6, 15.2, 19.7, 10.6,  6.6, 11.9, 24.7,  9.7,  1.6, 17.7,\n",
       "        5.7, 19.6, 10.8, 11.6,  9.5, 20.8,  9.6, 20.7, 10.9, 19.2, 20.1,\n",
       "       10.4, 12.3, 10.3, 18.2, 25.4, 10.9, 10.1, 16.1, 11.6, 16.6, 16. ,\n",
       "       20.6,  3.2, 15.3, 10.1,  7.3, 12.9, 16.4, 13.3, 19.9, 18. , 11.9,\n",
       "       16.9,  8. , 17.2, 17.1, 20. ,  8.4, 17.5,  7.6, 16.7, 16.5, 27. ,\n",
       "       20.2, 16.7, 16.8, 17.6, 15.5, 17.2,  8.7, 26.2, 17.6, 22.6, 10.3,\n",
       "       17.3, 20.9,  6.7, 10.8, 11.9,  5.9, 19.6, 17.3,  7.6, 14. , 14.8,\n",
       "       25.5, 18.4])"
      ]
     },
     "execution_count": 201,
     "metadata": {},
     "output_type": "execute_result"
    }
   ],
   "source": [
    "y"
   ]
  },
  {
   "cell_type": "markdown",
   "id": "196f655a",
   "metadata": {},
   "source": [
    "### 3. Pourquoi il s’agit d’un problème de régression"
   ]
  },
  {
   "cell_type": "markdown",
   "id": "916f5680",
   "metadata": {},
   "source": [
    "###################"
   ]
  },
  {
   "cell_type": "code",
   "execution_count": 202,
   "id": "9a0e3571",
   "metadata": {},
   "outputs": [
    {
     "data": {
      "image/png": "[encoded data removed]",
      "text/plain": [
       "<Figure size 640x480 with 1 Axes>"
      ]
     },
     "metadata": {},
     "output_type": "display_data"
    }
   ],
   "source": [
    "plt.scatter(X, y)\n",
    "plt.xlabel('TV')\n",
    "plt.ylabel('Sales')\n",
    "plt.show()"
   ]
  },
  {
   "cell_type": "markdown",
   "id": "0d32993a",
   "metadata": {},
   "source": [
    "### 5. Le modèle de régression linéaire simple peut être défini comme suit :<p/>\n",
    "y = w0 + w1 * x\n"
   ]
  },
  {
   "cell_type": "markdown",
   "id": "3a271149",
   "metadata": {},
   "source": [
    "#### (a) Diviser la base de données en ensembles d'apprentissage et de test :"
   ]
  },
  {
   "cell_type": "code",
   "execution_count": 286,
   "id": "abceb719",
   "metadata": {},
   "outputs": [],
   "source": [
    "X_train, X_test, y_train, y_test = train_test_split(X, y, test_size=0.2, random_state=35)"
   ]
  },
  {
   "cell_type": "markdown",
   "id": "e8f52a74",
   "metadata": {},
   "source": [
    "### (b) Définir une fonction pour calculer l'erreur MSE :\n"
   ]
  },
  {
   "cell_type": "code",
   "execution_count": 287,
   "id": "93b73a8d",
   "metadata": {},
   "outputs": [],
   "source": [
    "def MSE(X, y, W):\n",
    "    y_pred = W[0] + W[1] * X\n",
    "    return ((y - y_pred) ** 2).mean()"
   ]
  },
  {
   "cell_type": "markdown",
   "id": "626a3fdc",
   "metadata": {},
   "source": [
    "### (d) Définir la fonction Gradient(X,y,W)."
   ]
  },
  {
   "cell_type": "code",
   "execution_count": 288,
   "id": "7627e372",
   "metadata": {},
   "outputs": [],
   "source": [
    "def Gradient(X, y, W):\n",
    "    y_pred = W[0] + W[1] * X\n",
    "    dW0 = -2 * (y - y_pred).mean()\n",
    "    dW1 = -2 * (X * (y - y_pred)).mean()\n",
    "    return dW0, dW1"
   ]
  },
  {
   "cell_type": "markdown",
   "id": "2cfa77c3",
   "metadata": {},
   "source": [
    "### (d) Définir la fonction de mise à jour des paramètres W :"
   ]
  },
  {
   "cell_type": "code",
   "execution_count": 289,
   "id": "ba6d4e18",
   "metadata": {},
   "outputs": [],
   "source": [
    "import numpy as np\n",
    "\n",
    "def MiseJour(grad, W, alpha):\n",
    "    W = np.array(W)\n",
    "    grad = np.array(grad)\n",
    "    return W - alpha * grad\n"
   ]
  },
  {
   "cell_type": "markdown",
   "id": "c5869ddd",
   "metadata": {},
   "source": [
    "### (e) Écrire la fonction Batch Gradient Descent :"
   ]
  },
  {
   "cell_type": "code",
   "execution_count": 290,
   "id": "170dc6c3",
   "metadata": {},
   "outputs": [],
   "source": [
    "def BatchGradientDescent(X, y, W, N_max, alpha, eps):\n",
    "    errors = []\n",
    "    for i in range(N_max):\n",
    "        grad = Gradient(X, y, W)\n",
    "        W = MiseJour(grad, W, alpha)\n",
    "        mse = MSE(X, y, W)\n",
    "        errors.append(mse)\n",
    "        if mse < eps:\n",
    "            break\n",
    "    return W, errors"
   ]
  },
  {
   "cell_type": "markdown",
   "id": "40fd84dc",
   "metadata": {},
   "source": [
    "### (f) Tracer l'évolution de MSE :"
   ]
  },
  {
   "cell_type": "code",
   "execution_count": 310,
   "id": "51a21e8e",
   "metadata": {
    "scrolled": true
   },
   "outputs": [
    {
     "data": {
      "image/png": "[encoded data removed]",
      "text/plain": [
       "<Figure size 640x480 with 1 Axes>"
      ]
     },
     "metadata": {},
     "output_type": "display_data"
    }
   ],
   "source": [
    "W_initial = np.array([0, 0])  # Paramètres initiaux\n",
    "N_max = 50  # Nombre maximum d'itérations\n",
    "alpha = 0.00001  # Taux d'apprentissage\n",
    "eps = 0.0001  # Seuil d'erreur\n",
    "\n",
    "W_optimal, errors = BatchGradientDescent(X_train, y_train, W_initial, N_max, alpha, eps)\n",
    "\n",
    "plt.plot(range(len(errors)), errors)\n",
    "plt.xlabel(\"Iteration\")\n",
    "plt.ylabel(\"MSE\")\n",
    "plt.title(\"MSE Evolution\")\n",
    "plt.show()"
   ]
  },
  {
   "cell_type": "code",
   "execution_count": 311,
   "id": "333425fa",
   "metadata": {},
   "outputs": [
    {
     "data": {
      "text/plain": [
       "array([0.00220963, 0.09135971])"
      ]
     },
     "execution_count": 311,
     "metadata": {},
     "output_type": "execute_result"
    }
   ],
   "source": [
    "W_optimal"
   ]
  },
  {
   "cell_type": "code",
   "execution_count": 312,
   "id": "0b883ebc",
   "metadata": {},
   "outputs": [
    {
     "data": {
      "text/plain": [
       "[59.89063556205815,\n",
       " 24.994735312577326,\n",
       " 18.951763720588822,\n",
       " 17.905210478140983,\n",
       " 17.723879502870535,\n",
       " 17.692377769954156,\n",
       " 17.686821743059415,\n",
       " 17.685758696143818,\n",
       " 17.685473692838265,\n",
       " 17.685323423187686,\n",
       " 17.685196486172725,\n",
       " 17.685073590646063,\n",
       " 17.68495139598865,\n",
       " 17.68482932371051,\n",
       " 17.684707273635382,\n",
       " 17.684585228415884,\n",
       " 17.68446318504798,\n",
       " 17.684341143011466,\n",
       " 17.68421910221624,\n",
       " 17.684097062646696,\n",
       " 17.68397502430012,\n",
       " 17.683852987176028,\n",
       " 17.683730951274327,\n",
       " 17.683608916595,\n",
       " 17.68348688313801,\n",
       " 17.683364850903374,\n",
       " 17.683242819891056,\n",
       " 17.683120790101054,\n",
       " 17.682998761533348,\n",
       " 17.682876734187943,\n",
       " 17.682754708064813,\n",
       " 17.682632683163945,\n",
       " 17.68251065948533,\n",
       " 17.682388637028957,\n",
       " 17.682266615794816,\n",
       " 17.682144595782887,\n",
       " 17.682022576993166,\n",
       " 17.681900559425635,\n",
       " 17.68177854308028,\n",
       " 17.681656527957095,\n",
       " 17.68153451405606,\n",
       " 17.681412501377185,\n",
       " 17.68129048992042,\n",
       " 17.681168479685788,\n",
       " 17.68104647067326,\n",
       " 17.68092446288282,\n",
       " 17.680802456314467,\n",
       " 17.680680450968186,\n",
       " 17.680558446843953,\n",
       " 17.680436443941772]"
      ]
     },
     "execution_count": 312,
     "metadata": {},
     "output_type": "execute_result"
    }
   ],
   "source": [
    "errors"
   ]
  },
  {
   "cell_type": "code",
   "execution_count": 313,
   "id": "883eef30",
   "metadata": {},
   "outputs": [
    {
     "name": "stdout",
     "output_type": "stream",
     "text": [
      "Test Error: 16.972089088784077\n"
     ]
    }
   ],
   "source": [
    "test_error = MSE(X_test, y_test, W_optimal)\n",
    "print(\"Test Error:\", test_error)"
   ]
  }
 ],
 "metadata": {
  "kernelspec": {
   "display_name": "Python 3 (ipykernel)",
   "language": "python",
   "name": "python3"
  },
  "language_info": {
   "codemirror_mode": {
    "name": "ipython",
    "version": 3
   },
   "file_extension": ".py",
   "mimetype": "text/x-python",
   "name": "python",
   "nbconvert_exporter": "python",
   "pygments_lexer": "ipython3",
   "version": "3.10.9"
  }
 },
 "nbformat": 4,
 "nbformat_minor": 5
}
